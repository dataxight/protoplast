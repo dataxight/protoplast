{
 "cells": [
  {
   "cell_type": "code",
   "execution_count": 1,
   "id": "a1b05804-762a-43b2-b025-cbe5cac5ee97",
   "metadata": {},
   "outputs": [],
   "source": [
    "import anndata as ad\n",
    "import scanpy as sc\n",
    "import numpy as np\n",
    "from adata_utils import fix_genes_chunked"
   ]
  },
  {
   "cell_type": "code",
   "execution_count": 2,
   "id": "dbea37bb-4730-4888-af48-039b8d61e35f",
   "metadata": {},
   "outputs": [],
   "source": [
    "mcfaline = ad.read_h5ad(\"/mnt/hdd2/tan/perturbench/mcfaline23_gxe_preprocessed.h5ad\")"
   ]
  },
  {
   "cell_type": "code",
   "execution_count": 3,
   "id": "1ca58f38-8e58-4301-9bf6-1ee207488cd3",
   "metadata": {},
   "outputs": [
    {
     "data": {
      "text/plain": [
       "<Compressed Sparse Row sparse matrix of dtype 'float64'\n",
       "\twith 1128972813 stored elements and shape (878229, 15009)>"
      ]
     },
     "execution_count": 3,
     "metadata": {},
     "output_type": "execute_result"
    }
   ],
   "source": [
    "mcfaline.layers[\"counts\"]"
   ]
  },
  {
   "cell_type": "code",
   "execution_count": 4,
   "id": "f937890b-9691-4baa-ac0c-75c01305282d",
   "metadata": {},
   "outputs": [
    {
     "name": "stdout",
     "output_type": "stream",
     "text": [
      "WARNING: adata.X seems to be already log-transformed.\n"
     ]
    }
   ],
   "source": [
    "sc.pp.normalize_total(mcfaline, target_sum=1e4, layer=\"counts\")\n",
    "sc.pp.log1p(mcfaline, layer=\"counts\")"
   ]
  },
  {
   "cell_type": "code",
   "execution_count": 5,
   "id": "5a093e9a-1b75-4966-b761-2af60f553583",
   "metadata": {},
   "outputs": [
    {
     "data": {
      "text/plain": [
       "(18080, ['SAMD11', 'NOC2L', 'KLHL17', 'PLEKHN1', 'PERM1'])"
      ]
     },
     "execution_count": 5,
     "metadata": {},
     "output_type": "execute_result"
    }
   ],
   "source": [
    "gene_names = open(\"./gene_names.csv\").read().splitlines()\n",
    "len(gene_names), gene_names[:5]"
   ]
  },
  {
   "cell_type": "code",
   "execution_count": 6,
   "id": "741c2243-45e3-4888-9153-41e4802ae0a0",
   "metadata": {},
   "outputs": [],
   "source": [
    "mcfaline.X = mcfaline.layers[\"counts\"]"
   ]
  },
  {
   "cell_type": "code",
   "execution_count": 7,
   "id": "94cd53a1-da6b-4d56-8248-7e96d580cf38",
   "metadata": {
    "collapsed": true,
    "jupyter": {
     "outputs_hidden": true
    }
   },
   "outputs": [
    {
     "name": "stdout",
     "output_type": "stream",
     "text": [
      "Processing chunk 0/87\n",
      "Processing chunk 1/87\n",
      "Processing chunk 2/87\n",
      "Processing chunk 3/87\n",
      "Processing chunk 4/87\n",
      "Processing chunk 5/87\n",
      "Processing chunk 6/87\n",
      "Processing chunk 7/87\n",
      "Processing chunk 8/87\n",
      "Processing chunk 9/87\n",
      "Processing chunk 10/87\n",
      "Processing chunk 11/87\n",
      "Processing chunk 12/87\n",
      "Processing chunk 13/87\n",
      "Processing chunk 14/87\n",
      "Processing chunk 15/87\n",
      "Processing chunk 16/87\n",
      "Processing chunk 17/87\n",
      "Processing chunk 18/87\n",
      "Processing chunk 19/87\n",
      "Processing chunk 20/87\n",
      "Processing chunk 21/87\n",
      "Processing chunk 22/87\n",
      "Processing chunk 23/87\n",
      "Processing chunk 24/87\n",
      "Processing chunk 25/87\n",
      "Processing chunk 26/87\n",
      "Processing chunk 27/87\n",
      "Processing chunk 28/87\n",
      "Processing chunk 29/87\n",
      "Processing chunk 30/87\n",
      "Processing chunk 31/87\n",
      "Processing chunk 32/87\n",
      "Processing chunk 33/87\n",
      "Processing chunk 34/87\n",
      "Processing chunk 35/87\n",
      "Processing chunk 36/87\n",
      "Processing chunk 37/87\n",
      "Processing chunk 38/87\n",
      "Processing chunk 39/87\n",
      "Processing chunk 40/87\n",
      "Processing chunk 41/87\n",
      "Processing chunk 42/87\n",
      "Processing chunk 43/87\n",
      "Processing chunk 44/87\n",
      "Processing chunk 45/87\n",
      "Processing chunk 46/87\n",
      "Processing chunk 47/87\n",
      "Processing chunk 48/87\n",
      "Processing chunk 49/87\n",
      "Processing chunk 50/87\n",
      "Processing chunk 51/87\n",
      "Processing chunk 52/87\n",
      "Processing chunk 53/87\n",
      "Processing chunk 54/87\n",
      "Processing chunk 55/87\n",
      "Processing chunk 56/87\n",
      "Processing chunk 57/87\n",
      "Processing chunk 58/87\n",
      "Processing chunk 59/87\n",
      "Processing chunk 60/87\n",
      "Processing chunk 61/87\n",
      "Processing chunk 62/87\n",
      "Processing chunk 63/87\n",
      "Processing chunk 64/87\n",
      "Processing chunk 65/87\n",
      "Processing chunk 66/87\n",
      "Processing chunk 67/87\n",
      "Processing chunk 68/87\n",
      "Processing chunk 69/87\n",
      "Processing chunk 70/87\n",
      "Processing chunk 71/87\n",
      "Processing chunk 72/87\n",
      "Processing chunk 73/87\n",
      "Processing chunk 74/87\n",
      "Processing chunk 75/87\n",
      "Processing chunk 76/87\n",
      "Processing chunk 77/87\n",
      "Processing chunk 78/87\n",
      "Processing chunk 79/87\n",
      "Processing chunk 80/87\n",
      "Processing chunk 81/87\n",
      "Processing chunk 82/87\n",
      "Processing chunk 83/87\n",
      "Processing chunk 84/87\n",
      "Processing chunk 85/87\n",
      "Processing chunk 86/87\n",
      "Processing chunk 87/87\n"
     ]
    }
   ],
   "source": [
    "adata = fix_genes_chunked(mcfaline, gene_names)"
   ]
  },
  {
   "cell_type": "code",
   "execution_count": 8,
   "id": "957041d5-bdc6-49bf-ac06-a7c03c42a909",
   "metadata": {},
   "outputs": [],
   "source": [
    "adata.obs = mcfaline.obs"
   ]
  },
  {
   "cell_type": "code",
   "execution_count": 10,
   "id": "a603ec3b-8502-4b02-9a0a-1cd2f922e96d",
   "metadata": {},
   "outputs": [
    {
     "data": {
      "text/plain": [
       "AnnData object with n_obs × n_vars = 878229 × 18080\n",
       "    obs: 'orig.ident', 'ncounts', 'ngenes', 'cell', 'sample', 'Size_Factor', 'n.umi', 'PCR_plate', 'new_cell', 'dose', 'treatment', 'gRNA_id', 'gene_id', 'guide_number', 'cell_type', 'drug_dose', 'perturbation_type', 'dataset', 'gene_dose', 'perturbation', 'pert_cl_tr', 'condition', 'condition_plus_treatment', 'cov_merged', 'n_genes_by_counts', 'log1p_n_genes_by_counts', 'total_counts', 'log1p_total_counts', 'pct_counts_in_top_50_genes', 'pct_counts_in_top_100_genes', 'pct_counts_in_top_200_genes', 'pct_counts_in_top_500_genes', 'control', 'dose_val', 'cov_drug_dose_name'\n",
       "    var: 'ensembl_id', 'n_cells', 'n_cells_by_counts', 'mean_counts', 'log1p_mean_counts', 'pct_dropout_by_counts', 'total_counts', 'log1p_total_counts', 'highly_variable', 'highly_variable_rank', 'means', 'variances', 'variances_norm', 'highly_variable_nbatches'"
      ]
     },
     "execution_count": 10,
     "metadata": {},
     "output_type": "execute_result"
    }
   ],
   "source": [
    "adata"
   ]
  },
  {
   "cell_type": "code",
   "execution_count": 11,
   "id": "3e3593e2-ac4b-4850-9e6e-a51ccf578d00",
   "metadata": {},
   "outputs": [],
   "source": [
    "target_gene = adata.obs[\"gene_id\"].tolist()\n",
    "for i, val in enumerate(target_gene):\n",
    "    vals = [val, \"non-targeting\"]\n",
    "    target_gene[i] = vals[int(val == \"control\")]\n",
    "adata.obs[\"target_gene\"] = target_gene"
   ]
  },
  {
   "cell_type": "code",
   "execution_count": 12,
   "id": "ccbfcc7e-15e8-4143-9a6e-b50ed818b330",
   "metadata": {},
   "outputs": [],
   "source": [
    "adata.obs[\"batch_var\"] = adata.obs[\"PCR_plate\"]"
   ]
  },
  {
   "cell_type": "code",
   "execution_count": 13,
   "id": "4fa80265-4e17-45a2-a997-f28198346822",
   "metadata": {},
   "outputs": [
    {
     "data": {
      "text/plain": [
       "['a172', 't98g', 'u87mg']\n",
       "Categories (3, object): ['a172', 't98g', 'u87mg']"
      ]
     },
     "execution_count": 13,
     "metadata": {},
     "output_type": "execute_result"
    }
   ],
   "source": [
    "adata.obs.cell_type.unique()"
   ]
  },
  {
   "cell_type": "code",
   "execution_count": 16,
   "id": "678b7bd3-fa5e-40ff-b99e-86af7afbfc5c",
   "metadata": {},
   "outputs": [],
   "source": [
    "adata.var.drop(columns=[\"highly_variable\"], inplace=True)"
   ]
  },
  {
   "cell_type": "code",
   "execution_count": 17,
   "id": "c05f3c34-a060-485a-b520-f5abfb038a82",
   "metadata": {
    "collapsed": true,
    "jupyter": {
     "outputs_hidden": true
    },
    "scrolled": true
   },
   "outputs": [
    {
     "name": "stdout",
     "output_type": "stream",
     "text": [
      "Processing cell type:  a172\n"
     ]
    },
    {
     "name": "stderr",
     "output_type": "stream",
     "text": [
      "/mnt/hdd1/tan/conda/miniconda3/envs/python312/lib/python3.12/site-packages/anndata/_core/anndata.py:1175: ImplicitModificationWarning: Trying to modify attribute `.obs` of view, initializing view as actual.\n",
      "  df[key] = c\n",
      "/mnt/hdd1/tan/conda/miniconda3/envs/python312/lib/python3.12/site-packages/anndata/_core/anndata.py:1175: ImplicitModificationWarning: Trying to modify attribute `.var` of view, initializing view as actual.\n",
      "  df[key] = c\n"
     ]
    },
    {
     "name": "stdout",
     "output_type": "stream",
     "text": [
      "Processing cell type:  t98g\n"
     ]
    },
    {
     "name": "stderr",
     "output_type": "stream",
     "text": [
      "/mnt/hdd1/tan/conda/miniconda3/envs/python312/lib/python3.12/site-packages/anndata/_core/anndata.py:1175: ImplicitModificationWarning: Trying to modify attribute `.obs` of view, initializing view as actual.\n",
      "  df[key] = c\n",
      "/mnt/hdd1/tan/conda/miniconda3/envs/python312/lib/python3.12/site-packages/anndata/_core/anndata.py:1175: ImplicitModificationWarning: Trying to modify attribute `.var` of view, initializing view as actual.\n",
      "  df[key] = c\n"
     ]
    },
    {
     "name": "stdout",
     "output_type": "stream",
     "text": [
      "Processing cell type:  u87mg\n"
     ]
    },
    {
     "name": "stderr",
     "output_type": "stream",
     "text": [
      "/mnt/hdd1/tan/conda/miniconda3/envs/python312/lib/python3.12/site-packages/anndata/_core/anndata.py:1175: ImplicitModificationWarning: Trying to modify attribute `.obs` of view, initializing view as actual.\n",
      "  df[key] = c\n",
      "/mnt/hdd1/tan/conda/miniconda3/envs/python312/lib/python3.12/site-packages/anndata/_core/anndata.py:1175: ImplicitModificationWarning: Trying to modify attribute `.var` of view, initializing view as actual.\n",
      "  df[key] = c\n"
     ]
    }
   ],
   "source": [
    "data_dir = \"/mnt/hdd2/tan/competition_support_set_sorted/\"\n",
    "for cell_type in adata.obs.cell_type.unique():\n",
    "    print(\"Processing cell type: \", cell_type)\n",
    "    ct_adata = adata[adata.obs.cell_type == cell_type, ]\n",
    "    ct_adata = ct_adata[ct_adata.obs.target_gene.sort_values().index, ]\n",
    "    ct_adata.write_h5ad(f\"{data_dir}/mcfaline_{cell_type}.h5\")"
   ]
  },
  {
   "cell_type": "code",
   "execution_count": 18,
   "id": "4b7ed671-fb5f-45c6-97a8-daeb2721609c",
   "metadata": {},
   "outputs": [
    {
     "data": {
      "text/plain": [
       "06B_C06_RT_BC_318_Lig_BC_173             AAK1\n",
       "03A_G03_RT_BC_317_Lig_BC_146             AAK1\n",
       "10A_H10_RT_BC_212_Lig_BC_297             AAK1\n",
       "11A_A11_RT_BC_95_Lig_BC_341              AAK1\n",
       "11B_C11_RT_BC_187_Lig_BC_254             AAK1\n",
       "                                    ...      \n",
       "02C_B02_RT_BC_359_Lig_BC_10     non-targeting\n",
       "08B_D08_RT_BC_363_Lig_BC_351    non-targeting\n",
       "02C_B02_RT_BC_35_Lig_BC_194     non-targeting\n",
       "08B_D08_RT_BC_374_Lig_BC_63     non-targeting\n",
       "08B_D08_RT_BC_34_Lig_BC_93      non-targeting\n",
       "Name: target_gene, Length: 302826, dtype: category\n",
       "Categories (529, object): ['AAK1', 'AATK', 'ABL1', 'ABL2', ..., 'YES1', 'ZAK', 'ZAP70', 'non-targeting']"
      ]
     },
     "execution_count": 18,
     "metadata": {},
     "output_type": "execute_result"
    }
   ],
   "source": [
    "adata = ad.read_h5ad(\"/mnt/hdd2/tan/competition_support_set_sorted/mcfaline_a172.h5\", \"r\")\n",
    "adata.obs.target_gene"
   ]
  },
  {
   "cell_type": "code",
   "execution_count": null,
   "id": "6af50630-ae63-4b87-b222-777fd7079798",
   "metadata": {},
   "outputs": [],
   "source": []
  }
 ],
 "metadata": {
  "kernelspec": {
   "display_name": "Python 3 (ipykernel)",
   "language": "python",
   "name": "python3"
  },
  "language_info": {
   "codemirror_mode": {
    "name": "ipython",
    "version": 3
   },
   "file_extension": ".py",
   "mimetype": "text/x-python",
   "name": "python",
   "nbconvert_exporter": "python",
   "pygments_lexer": "ipython3",
   "version": "3.12.11"
  }
 },
 "nbformat": 4,
 "nbformat_minor": 5
}
