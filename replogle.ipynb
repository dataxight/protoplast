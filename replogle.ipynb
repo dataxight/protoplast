{
 "cells": [
  {
   "cell_type": "code",
   "execution_count": 1,
   "id": "a1b05804-762a-43b2-b025-cbe5cac5ee97",
   "metadata": {},
   "outputs": [],
   "source": [
    "import anndata as ad\n",
    "import scanpy as sc\n",
    "import numpy as np\n",
    "import pandas as pd\n",
    "from scipy import sparse\n",
    "from scipy.sparse import coo_matrix, csr_matrix, vstack as sparse_vstack\n",
    "from adata_utils import fix_genes_chunked"
   ]
  },
  {
   "cell_type": "code",
   "execution_count": 2,
   "id": "dbea37bb-4730-4888-af48-039b8d61e35f",
   "metadata": {},
   "outputs": [],
   "source": [
    "replogle = ad.read_h5ad(\"/mnt/hdd1/tan/vcc/raw/K562_gwps_raw_singlecell_01.h5ad\", as_sparse=[\"X\"], chunk_size=200000)"
   ]
  },
  {
   "cell_type": "code",
   "execution_count": 4,
   "id": "f937890b-9691-4baa-ac0c-75c01305282d",
   "metadata": {},
   "outputs": [
    {
     "name": "stdout",
     "output_type": "stream",
     "text": [
      "WARNING: adata.X seems to be already log-transformed.\n"
     ]
    }
   ],
   "source": [
    "sc.pp.normalize_total(replogle, target_sum=1e4)\n",
    "sc.pp.log1p(replogle)"
   ]
  },
  {
   "cell_type": "code",
   "execution_count": 16,
   "id": "33dee155-a620-4209-a484-d18d76018a17",
   "metadata": {},
   "outputs": [
    {
     "data": {
      "text/plain": [
       "np.float32(10000.0)"
      ]
     },
     "execution_count": 16,
     "metadata": {},
     "output_type": "execute_result"
    }
   ],
   "source": [
    "np.expm1(replogle.X[1, :].toarray()).sum()"
   ]
  },
  {
   "cell_type": "code",
   "execution_count": 8,
   "id": "5a093e9a-1b75-4966-b761-2af60f553583",
   "metadata": {},
   "outputs": [
    {
     "data": {
      "text/plain": [
       "(18080, ['SAMD11', 'NOC2L', 'KLHL17', 'PLEKHN1', 'PERM1'])"
      ]
     },
     "execution_count": 8,
     "metadata": {},
     "output_type": "execute_result"
    }
   ],
   "source": [
    "gene_names = open(\"./gene_names.csv\").read().splitlines()\n",
    "len(gene_names), gene_names[:5]"
   ]
  },
  {
   "cell_type": "code",
   "execution_count": 51,
   "id": "1b8a2e4a-b709-4558-9f08-e5a6264df17e",
   "metadata": {},
   "outputs": [],
   "source": [
    "\n",
    "def make_unique_column(df, col, sep=\"-\"):\n",
    "    \"\"\"\n",
    "    Make values in df[col] unique by appending suffixes.\n",
    "    Returns a new DataFrame with updated column.\n",
    "    \"\"\"\n",
    "    counts = {}\n",
    "    new_vals = []\n",
    "    for val in df[col]:\n",
    "        if val in counts:\n",
    "            counts[val] += 1\n",
    "            new_vals.append(f\"{val}{sep}{counts[val]}\")\n",
    "        else:\n",
    "            counts[val] = 0\n",
    "            new_vals.append(val)\n",
    "    df[col] = new_vals\n",
    "    return df"
   ]
  },
  {
   "cell_type": "code",
   "execution_count": 54,
   "id": "41c94502-1202-4e4d-8279-6bbd79013b46",
   "metadata": {},
   "outputs": [
    {
     "name": "stderr",
     "output_type": "stream",
     "text": [
      "/mnt/hdd1/tan/conda/miniconda3/envs/python312/lib/python3.12/site-packages/anndata/_core/anndata.py:774: UserWarning: \n",
      "AnnData expects .var.index to contain strings, but got values like:\n",
      "    ['LINC01409', 'LINC01128', 'NOC2L', 'KLHL17', 'HES4']\n",
      "\n",
      "    Inferred to be: categorical\n",
      "\n",
      "  value_idx = self._prep_dim_index(value.index, attr)\n"
     ]
    }
   ],
   "source": [
    "replogle.var = make_unique_column(replogle.var, \"gene_name\")\n",
    "replogle.var.index = replogle.var.gene_name"
   ]
  },
  {
   "cell_type": "code",
   "execution_count": null,
   "id": "94cd53a1-da6b-4d56-8248-7e96d580cf38",
   "metadata": {
    "scrolled": true
   },
   "outputs": [
    {
     "name": "stdout",
     "output_type": "stream",
     "text": [
      "Processing chunk 0/198\n",
      "Processing chunk 1/198\n",
      "Processing chunk 2/198\n",
      "Processing chunk 3/198\n",
      "Processing chunk 4/198\n",
      "Processing chunk 5/198\n",
      "Processing chunk 6/198\n",
      "Processing chunk 7/198\n",
      "Processing chunk 8/198\n",
      "Processing chunk 9/198\n",
      "Processing chunk 10/198\n",
      "Processing chunk 11/198\n",
      "Processing chunk 12/198\n",
      "Processing chunk 13/198\n",
      "Processing chunk 14/198\n",
      "Processing chunk 15/198\n",
      "Processing chunk 16/198\n",
      "Processing chunk 17/198\n",
      "Processing chunk 18/198\n",
      "Processing chunk 19/198\n",
      "Processing chunk 20/198\n",
      "Processing chunk 21/198\n",
      "Processing chunk 22/198\n",
      "Processing chunk 23/198\n",
      "Processing chunk 24/198\n",
      "Processing chunk 25/198\n",
      "Processing chunk 26/198\n",
      "Processing chunk 27/198\n",
      "Processing chunk 28/198\n",
      "Processing chunk 29/198\n",
      "Processing chunk 30/198\n",
      "Processing chunk 31/198\n",
      "Processing chunk 32/198\n",
      "Processing chunk 33/198\n",
      "Processing chunk 34/198\n",
      "Processing chunk 35/198\n",
      "Processing chunk 36/198\n",
      "Processing chunk 37/198\n",
      "Processing chunk 38/198\n",
      "Processing chunk 39/198\n",
      "Processing chunk 40/198\n",
      "Processing chunk 41/198\n",
      "Processing chunk 42/198\n",
      "Processing chunk 43/198\n",
      "Processing chunk 44/198\n",
      "Processing chunk 45/198\n",
      "Processing chunk 46/198\n",
      "Processing chunk 47/198\n",
      "Processing chunk 48/198\n",
      "Processing chunk 49/198\n",
      "Processing chunk 50/198\n",
      "Processing chunk 51/198\n",
      "Processing chunk 52/198\n",
      "Processing chunk 53/198\n",
      "Processing chunk 54/198\n",
      "Processing chunk 55/198\n",
      "Processing chunk 56/198\n",
      "Processing chunk 57/198\n",
      "Processing chunk 58/198\n",
      "Processing chunk 59/198\n",
      "Processing chunk 60/198\n",
      "Processing chunk 61/198\n",
      "Processing chunk 62/198\n",
      "Processing chunk 63/198\n",
      "Processing chunk 64/198\n",
      "Processing chunk 65/198\n",
      "Processing chunk 66/198\n",
      "Processing chunk 67/198\n",
      "Processing chunk 68/198\n",
      "Processing chunk 69/198\n",
      "Processing chunk 70/198\n",
      "Processing chunk 71/198\n",
      "Processing chunk 72/198\n",
      "Processing chunk 73/198\n",
      "Processing chunk 74/198\n",
      "Processing chunk 75/198\n",
      "Processing chunk 76/198\n",
      "Processing chunk 77/198\n",
      "Processing chunk 78/198\n",
      "Processing chunk 79/198\n",
      "Processing chunk 80/198\n",
      "Processing chunk 81/198\n",
      "Processing chunk 82/198\n",
      "Processing chunk 83/198\n",
      "Processing chunk 84/198\n",
      "Processing chunk 85/198\n",
      "Processing chunk 86/198\n",
      "Processing chunk 87/198\n",
      "Processing chunk 88/198\n",
      "Processing chunk 89/198\n",
      "Processing chunk 90/198\n",
      "Processing chunk 91/198\n",
      "Processing chunk 92/198\n",
      "Processing chunk 93/198\n",
      "Processing chunk 94/198\n",
      "Processing chunk 95/198\n",
      "Processing chunk 96/198\n",
      "Processing chunk 97/198\n",
      "Processing chunk 98/198\n",
      "Processing chunk 99/198\n",
      "Processing chunk 100/198\n",
      "Processing chunk 101/198\n",
      "Processing chunk 102/198\n",
      "Processing chunk 103/198\n",
      "Processing chunk 104/198\n",
      "Processing chunk 105/198\n",
      "Processing chunk 106/198\n",
      "Processing chunk 107/198\n",
      "Processing chunk 108/198\n",
      "Processing chunk 109/198\n",
      "Processing chunk 110/198\n",
      "Processing chunk 111/198\n",
      "Processing chunk 112/198\n",
      "Processing chunk 113/198\n",
      "Processing chunk 114/198\n",
      "Processing chunk 115/198\n",
      "Processing chunk 116/198\n",
      "Processing chunk 117/198\n",
      "Processing chunk 118/198\n",
      "Processing chunk 119/198\n",
      "Processing chunk 120/198\n",
      "Processing chunk 121/198\n",
      "Processing chunk 122/198\n",
      "Processing chunk 123/198\n",
      "Processing chunk 124/198\n",
      "Processing chunk 125/198\n",
      "Processing chunk 126/198\n",
      "Processing chunk 127/198\n",
      "Processing chunk 128/198\n",
      "Processing chunk 129/198\n",
      "Processing chunk 130/198\n",
      "Processing chunk 131/198\n",
      "Processing chunk 132/198\n",
      "Processing chunk 133/198\n",
      "Processing chunk 134/198\n",
      "Processing chunk 135/198\n",
      "Processing chunk 136/198\n",
      "Processing chunk 137/198\n",
      "Processing chunk 138/198\n",
      "Processing chunk 139/198\n",
      "Processing chunk 140/198\n",
      "Processing chunk 141/198\n",
      "Processing chunk 142/198\n",
      "Processing chunk 143/198\n",
      "Processing chunk 144/198\n",
      "Processing chunk 145/198\n",
      "Processing chunk 146/198\n",
      "Processing chunk 147/198\n",
      "Processing chunk 148/198\n",
      "Processing chunk 149/198\n",
      "Processing chunk 150/198\n",
      "Processing chunk 151/198\n",
      "Processing chunk 152/198\n",
      "Processing chunk 153/198\n",
      "Processing chunk 154/198\n",
      "Processing chunk 155/198\n",
      "Processing chunk 156/198\n",
      "Processing chunk 157/198\n",
      "Processing chunk 158/198\n",
      "Processing chunk 159/198\n",
      "Processing chunk 160/198\n",
      "Processing chunk 161/198\n",
      "Processing chunk 162/198\n",
      "Processing chunk 163/198\n",
      "Processing chunk 164/198\n",
      "Processing chunk 165/198\n",
      "Processing chunk 166/198\n",
      "Processing chunk 167/198\n",
      "Processing chunk 168/198\n",
      "Processing chunk 169/198\n"
     ]
    }
   ],
   "source": [
    "adata = fix_genes_chunked(replogle, gene_names)"
   ]
  },
  {
   "cell_type": "code",
   "execution_count": 8,
   "id": "74f22231-a1ff-4bc0-96c9-69c7bc5a78fb",
   "metadata": {},
   "outputs": [],
   "source": [
    "adata.var.drop(columns=[\"in_matrix\"], inplace=True)"
   ]
  },
  {
   "cell_type": "code",
   "execution_count": 39,
   "id": "3e3593e2-ac4b-4850-9e6e-a51ccf578d00",
   "metadata": {},
   "outputs": [],
   "source": [
    "target_gene = adata.obs[\"gene\"].tolist()\n",
    "# for i, val in enumerate(target_gene):\n",
    "#     vals = [val, \"non-targeting\"]\n",
    "#     target_gene[i] = vals[int(val == \"NT\")]\n",
    "adata.obs[\"target_gene\"] = target_gene"
   ]
  },
  {
   "cell_type": "code",
   "execution_count": 40,
   "id": "ccbfcc7e-15e8-4143-9a6e-b50ed818b330",
   "metadata": {},
   "outputs": [],
   "source": [
    "adata.obs[\"batch_var\"] = \"batch_reploge1\""
   ]
  },
  {
   "cell_type": "code",
   "execution_count": 41,
   "id": "4fa80265-4e17-45a2-a997-f28198346822",
   "metadata": {},
   "outputs": [],
   "source": [
    "adata.obs[\"cell_type\"] = \"k562\""
   ]
  },
  {
   "cell_type": "code",
   "execution_count": 27,
   "id": "6f4da753-8498-4bf6-aba1-fa7476710d59",
   "metadata": {},
   "outputs": [],
   "source": [
    "data_dir = \"/mnt/hdd2/tan/competition_support_set_sorted/\"\n",
    "adata = adata[adata.obs.target_gene.sort_values().index, ]\n",
    "adata.write_h5ad(f\"{data_dir}/replogle_k562_gwps.h5\")"
   ]
  },
  {
   "cell_type": "code",
   "execution_count": 31,
   "id": "1d571a7b-57e3-4ed4-ad63-2a6d0e067df2",
   "metadata": {},
   "outputs": [],
   "source": [
    "a = ad.read_h5ad(\"/mnt/hdd2/tan/competition_support_set_sorted/replogle_k562_gwps.h5\", \"r\")"
   ]
  },
  {
   "cell_type": "code",
   "execution_count": 43,
   "id": "666ab271-ba48-41e4-913e-f336457e2fa6",
   "metadata": {},
   "outputs": [
    {
     "data": {
      "text/plain": [
       "array([[0., 0., 0., ..., 0., 0., 0.]], shape=(1, 18080), dtype=float32)"
      ]
     },
     "execution_count": 43,
     "metadata": {},
     "output_type": "execute_result"
    }
   ],
   "source": [
    "adata.X[1, :].toarray()"
   ]
  },
  {
   "cell_type": "code",
   "execution_count": null,
   "id": "92be3344-0510-4f51-922c-b90d928476b7",
   "metadata": {},
   "outputs": [],
   "source": []
  }
 ],
 "metadata": {
  "kernelspec": {
   "display_name": "Python 3 (ipykernel)",
   "language": "python",
   "name": "python3"
  },
  "language_info": {
   "codemirror_mode": {
    "name": "ipython",
    "version": 3
   },
   "file_extension": ".py",
   "mimetype": "text/x-python",
   "name": "python",
   "nbconvert_exporter": "python",
   "pygments_lexer": "ipython3",
   "version": "3.12.11"
  }
 },
 "nbformat": 4,
 "nbformat_minor": 5
}
