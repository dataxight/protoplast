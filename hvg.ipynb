{
 "cells": [
  {
   "cell_type": "code",
   "execution_count": 1,
   "id": "e90a0bc7-dcc9-4e45-b630-e4eda88f2f74",
   "metadata": {},
   "outputs": [],
   "source": [
    "import anndata as ad\n",
    "import scanpy as sc\n",
    "import glob"
   ]
  },
  {
   "cell_type": "code",
   "execution_count": 2,
   "id": "01136eb3-f8bb-4fc1-8b65-7b2190972a37",
   "metadata": {},
   "outputs": [],
   "source": [
    "files = glob.glob(\"/mnt/hdd2/tan/competition_support_set_sorted/*.h5\")"
   ]
  },
  {
   "cell_type": "code",
   "execution_count": 5,
   "id": "502401e5-f1bb-43b2-9de7-d7fdf50f55ed",
   "metadata": {},
   "outputs": [],
   "source": [
    "from __future__ import annotations\n",
    "from collections import Counter, defaultdict\n",
    "from typing import Iterable, Optional, List, Dict, Tuple\n",
    "import gc\n",
    "import numpy as np\n",
    "import scanpy as sc\n",
    "import anndata as ad\n",
    "\n",
    "def compute_consensus_hvgs(\n",
    "    h5ad_paths: Iterable[str],\n",
    "    *,\n",
    "    n_top_genes_per_dataset: int = 4000,\n",
    "    min_genes: int = 4000,\n",
    "    layer: Optional[str] = None,\n",
    "    flavor: str = \"seurat\",\n",
    "    gene_key: Optional[str] = None,\n",
    "    gene_transform: Optional[callable] = None,\n",
    "    verbose: bool = True,\n",
    "    gc_every_iter: bool = True,   # NEW: force garbage collection after each file\n",
    ") -> List[str]:\n",
    "    counts: Counter[str] = Counter()\n",
    "    score_lists: Dict[str, List[float]] = defaultdict(list)\n",
    "    all_seen_genes: set[str] = set()\n",
    "\n",
    "    def _pick_score_col(cols: Iterable[str]) -> Optional[str]:\n",
    "        for c in (\"dispersions_norm\", \"variances_norm\", \"dispersions\", \"variances\"):\n",
    "            if c in cols:\n",
    "                return c\n",
    "        return None\n",
    "\n",
    "    paths = list(h5ad_paths)  # avoid re-materializing an iterator repeatedly\n",
    "    for i, path in enumerate(paths):\n",
    "        if verbose:\n",
    "            print(f\"[{i+1}/{len(paths)}] reading {path}\")\n",
    "\n",
    "        adata = None\n",
    "        hvg_df = None\n",
    "        hvgs = None\n",
    "        scores = None\n",
    "\n",
    "        try:\n",
    "            adata: ad.AnnData = sc.read_h5ad(path)\n",
    "\n",
    "            if gene_key is not None:\n",
    "                if gene_key not in adata.var.columns:\n",
    "                    raise KeyError(f\"{path}: gene_key '{gene_key}' not found in .var\")\n",
    "                adata.var_names = adata.var[gene_key].astype(str)\n",
    "                adata.var_names_make_unique()\n",
    "\n",
    "            if gene_transform is not None:\n",
    "                new_names = [gene_transform(g) for g in adata.var_names]\n",
    "                adata.var_names = sc.utils.make_index_unique(np.array(new_names, dtype=object))\n",
    "\n",
    "            k = min(n_top_genes_per_dataset, adata.n_vars)\n",
    "            hvg_df = sc.pp.highly_variable_genes(\n",
    "                adata,\n",
    "                flavor=flavor,\n",
    "                n_top_genes=k,\n",
    "                layer=layer,\n",
    "                inplace=False,\n",
    "            )\n",
    "            score_col = _pick_score_col(hvg_df.columns)\n",
    "\n",
    "            hvgs = hvg_df.index[hvg_df[\"highly_variable\"]].tolist()\n",
    "            counts.update(hvgs)\n",
    "\n",
    "            if score_col is not None:\n",
    "                scores = hvg_df[score_col].to_dict()\n",
    "                for g, s in scores.items():\n",
    "                    if np.isfinite(s):\n",
    "                        score_lists[g].append(float(s))\n",
    "\n",
    "            all_seen_genes.update(hvg_df.index.tolist())\n",
    "\n",
    "        finally:\n",
    "            # Proactively drop large objects and trigger GC\n",
    "            try:\n",
    "                if adata is not None and getattr(adata, \"isbacked\", False):\n",
    "                    # Close memmap/file handle if ever used in backed mode\n",
    "                    adata.file.close()\n",
    "            except Exception:\n",
    "                pass\n",
    "\n",
    "            del hvgs\n",
    "            del hvg_df\n",
    "            del scores\n",
    "            del adata\n",
    "\n",
    "            if gc_every_iter:\n",
    "                gc.collect()\n",
    "\n",
    "    # Build consensus (≥ 2 datasets), then top-up to min_genes\n",
    "    consensus = [g for g, c in counts.items() if c >= 2]\n",
    "\n",
    "    if len(consensus) < min_genes:\n",
    "        ranked = sorted(\n",
    "            all_seen_genes,\n",
    "            key=lambda g: (\n",
    "                counts[g],\n",
    "                max(score_lists.get(g, [float(\"-inf\")])),\n",
    "            ),\n",
    "            reverse=True,\n",
    "        )\n",
    "        chosen = set(consensus)\n",
    "        for g in ranked:\n",
    "            if len(chosen) >= min_genes:\n",
    "                break\n",
    "            if g not in chosen:\n",
    "                chosen.add(g)\n",
    "        consensus = list(chosen)\n",
    "\n",
    "    def sort_key(g: str):\n",
    "        freq = counts[g]\n",
    "        best = max(score_lists.get(g, [float(\"-inf\")]))\n",
    "        return (-freq, -best, g)\n",
    "\n",
    "    consensus_sorted = sorted(consensus, key=sort_key)\n",
    "    if verbose:\n",
    "        print(f\"Consensus HVGs: {len(consensus_sorted)} genes \"\n",
    "              f\"(>=2 datasets: {sum(counts[g] >= 2 for g in consensus_sorted)})\")\n",
    "    return consensus_sorted\n"
   ]
  },
  {
   "cell_type": "code",
   "execution_count": 6,
   "id": "e702e472",
   "metadata": {},
   "outputs": [
    {
     "name": "stdout",
     "output_type": "stream",
     "text": [
      "[1/14] reading /mnt/hdd2/tan/competition_support_set_sorted/jiang_bxpc3.h5\n",
      "[2/14] reading /mnt/hdd2/tan/competition_support_set_sorted/mcfaline_a172.h5\n",
      "[3/14] reading /mnt/hdd2/tan/competition_support_set_sorted/mcfaline_t98g.h5\n",
      "[4/14] reading /mnt/hdd2/tan/competition_support_set_sorted/mcfaline_u87mg.h5\n",
      "[5/14] reading /mnt/hdd2/tan/competition_support_set_sorted/jiang_a549.h5\n",
      "[6/14] reading /mnt/hdd2/tan/competition_support_set_sorted/jurkat.h5\n",
      "[7/14] reading /mnt/hdd2/tan/competition_support_set_sorted/jiang_ht29.h5\n",
      "[8/14] reading /mnt/hdd2/tan/competition_support_set_sorted/jiang_hap1.h5\n",
      "[9/14] reading /mnt/hdd2/tan/competition_support_set_sorted/hepg2.h5\n",
      "[10/14] reading /mnt/hdd2/tan/competition_support_set_sorted/competition_train.h5\n",
      "[11/14] reading /mnt/hdd2/tan/competition_support_set_sorted/jiang_mcf7.h5\n",
      "[12/14] reading /mnt/hdd2/tan/competition_support_set_sorted/k562_gwps.h5\n",
      "[13/14] reading /mnt/hdd2/tan/competition_support_set_sorted/k562.h5\n",
      "[14/14] reading /mnt/hdd2/tan/competition_support_set_sorted/rpe1.h5\n",
      "Consensus HVGs: 11431 genes (>=2 datasets: 11431)\n"
     ]
    }
   ],
   "source": [
    "hvg = compute_consensus_hvgs(files)"
   ]
  },
  {
   "cell_type": "code",
   "execution_count": 8,
   "id": "4cd8fad4",
   "metadata": {},
   "outputs": [
    {
     "data": {
      "text/plain": [
       "11431"
      ]
     },
     "execution_count": 8,
     "metadata": {},
     "output_type": "execute_result"
    }
   ],
   "source": [
    "len(hvg)"
   ]
  },
  {
   "cell_type": "code",
   "execution_count": 9,
   "id": "041fe4dc",
   "metadata": {},
   "outputs": [],
   "source": [
    "with open(\"hvg-all-competition-extended.txt\", \"w\") as f:\n",
    "    for g in hvg:\n",
    "        f.write(g + \"\\n\")"
   ]
  },
  {
   "cell_type": "code",
   "execution_count": 10,
   "id": "f31a5013",
   "metadata": {},
   "outputs": [],
   "source": [
    "with open(\"hvg-4000-competition-extended.txt\", \"w\") as f:\n",
    "    for g in hvg[:4000]:\n",
    "        f.write(g + \"\\n\")"
   ]
  },
  {
   "cell_type": "code",
   "execution_count": null,
   "id": "69be1e1a",
   "metadata": {},
   "outputs": [],
   "source": []
  }
 ],
 "metadata": {
  "kernelspec": {
   "display_name": "base",
   "language": "python",
   "name": "python3"
  },
  "language_info": {
   "codemirror_mode": {
    "name": "ipython",
    "version": 3
   },
   "file_extension": ".py",
   "mimetype": "text/x-python",
   "name": "python",
   "nbconvert_exporter": "python",
   "pygments_lexer": "ipython3",
   "version": "3.12.11"
  }
 },
 "nbformat": 4,
 "nbformat_minor": 5
}
