{
 "cells": [
  {
   "cell_type": "markdown",
   "id": "837a8ecd",
   "metadata": {},
   "source": [
    "# VCC Submission Notebook\n",
    "\n",
    "Hello! \n",
    "\n",
    "This is a notebook that will help you prepare your predicted AnnData to be ready to be scored by `cell-eval` against a validation dataset.\n",
    "\n",
    "Before we begin you will need a few things:\n",
    "\n",
    "1. `cell-eval` installed and in your `$PATH` (see our [installation guide](https://github.com/ArcInstitute/cell-eval?tab=readme-ov-file#installation))\n",
    "2. The number of expected cells / perturbation in the validation dataset (CSV) ([download](https://virtualcellchallenge.org/app))\n",
    "3. The gene names to predict (CSV) ([download](https://virtualcellchallenge.org/app))\n",
    "4. Your model predictions in an AnnData (h5ad)\n",
    "5. (Optional) The training AnnData (if you are not predicting Non-Targeting Controls) ([download](https://virtualcellchallenge.org/app))\n",
    "\n",
    "\n",
    "> Note: Your model predictions **may not exceed 100K cells total**"
   ]
  },
  {
   "cell_type": "markdown",
   "id": "b5cc204d",
   "metadata": {},
   "source": [
    "## Building an Example Submission\n",
    "\n",
    "For the purposes of this tutorial we will be generating **random predictions** and preparing them to be evaluated.\n",
    "\n",
    "We will create an AnnData with *random gene abundances* for each cell, where the number of cells for each perturbation matches the number of cells in the validation dataset."
   ]
  },
  {
   "cell_type": "markdown",
   "id": "3e9c543f",
   "metadata": {},
   "source": [
    "### Load in our Expected Counts"
   ]
  },
  {
   "cell_type": "code",
   "execution_count": 1,
   "id": "2d172eea",
   "metadata": {},
   "outputs": [
    {
     "name": "stdout",
     "output_type": "stream",
     "text": [
      "Dimensions: (50, 3)\n"
     ]
    },
    {
     "data": {
      "text/html": [
       "<div><style>\n",
       ".dataframe > thead > tr,\n",
       ".dataframe > tbody > tr {\n",
       "  text-align: right;\n",
       "  white-space: pre-wrap;\n",
       "}\n",
       "</style>\n",
       "<small>shape: (5, 3)</small><table border=\"1\" class=\"dataframe\"><thead><tr><th>target_gene</th><th>n_cells</th><th>median_umi_per_cell</th></tr><tr><td>str</td><td>i64</td><td>f64</td></tr></thead><tbody><tr><td>&quot;SH3BP4&quot;</td><td>2925</td><td>54551.0</td></tr><tr><td>&quot;ZNF581&quot;</td><td>2502</td><td>53803.5</td></tr><tr><td>&quot;ANXA6&quot;</td><td>2496</td><td>55175.0</td></tr><tr><td>&quot;PACSIN3&quot;</td><td>2101</td><td>54088.0</td></tr><tr><td>&quot;MGST1&quot;</td><td>2096</td><td>54217.5</td></tr></tbody></table></div>"
      ],
      "text/plain": [
       "shape: (5, 3)\n",
       "┌─────────────┬─────────┬─────────────────────┐\n",
       "│ target_gene ┆ n_cells ┆ median_umi_per_cell │\n",
       "│ ---         ┆ ---     ┆ ---                 │\n",
       "│ str         ┆ i64     ┆ f64                 │\n",
       "╞═════════════╪═════════╪═════════════════════╡\n",
       "│ SH3BP4      ┆ 2925    ┆ 54551.0             │\n",
       "│ ZNF581      ┆ 2502    ┆ 53803.5             │\n",
       "│ ANXA6       ┆ 2496    ┆ 55175.0             │\n",
       "│ PACSIN3     ┆ 2101    ┆ 54088.0             │\n",
       "│ MGST1       ┆ 2096    ┆ 54217.5             │\n",
       "└─────────────┴─────────┴─────────────────────┘"
      ]
     },
     "execution_count": 1,
     "metadata": {},
     "output_type": "execute_result"
    }
   ],
   "source": [
    "import polars as pl\n",
    "\n",
    "# Define our path\n",
    "pert_counts_path = \"../vcc_data/pert_counts_Validation.csv\"\n",
    "\n",
    "# Read in the csv\n",
    "pert_counts = pl.read_csv(pert_counts_path)\n",
    "\n",
    "# Show the dimensions\n",
    "print(f\"Dimensions: {pert_counts.shape}\")\n",
    "pert_counts.head()"
   ]
  },
  {
   "cell_type": "markdown",
   "id": "34164d85",
   "metadata": {},
   "source": [
    "### Load in our Expected Gene Names"
   ]
  },
  {
   "cell_type": "code",
   "execution_count": 2,
   "id": "04e3cfad",
   "metadata": {},
   "outputs": [
    {
     "data": {
      "text/plain": [
       "array(['SAMD11', 'NOC2L', 'KLHL17', ..., 'MT-ND5', 'MT-ND6', 'MT-CYB'],\n",
       "      shape=(18080,), dtype=object)"
      ]
     },
     "execution_count": 2,
     "metadata": {},
     "output_type": "execute_result"
    }
   ],
   "source": [
    "gene_names_path = \"../vcc_data/gene_names.csv\"\n",
    "\n",
    "# Read this in and immediately convert to array\n",
    "gene_names = pl.read_csv(gene_names_path, has_header=False).to_numpy().flatten()\n",
    "\n",
    "gene_names"
   ]
  },
  {
   "cell_type": "markdown",
   "id": "322877ba-3464-4fc9-b8ea-e5a8999fd115",
   "metadata": {},
   "source": [
    "# Model inferrence to construct the anndata object for validation"
   ]
  },
  {
   "cell_type": "code",
   "execution_count": 4,
   "id": "f875fc3a-30e6-43c1-aeab-606f793972e3",
   "metadata": {
    "scrolled": true
   },
   "outputs": [
    {
     "name": "stdout",
     "output_type": "stream",
     "text": [
      "✓ Applied AnnDataFileManager patch\n"
     ]
    },
    {
     "name": "stderr",
     "output_type": "stream",
     "text": [
      "2025-09-02 11:53:01,768 - protoplast.scrna.anndata.dataloader - INFO - write mmap file for /home/tphan/state/state/competition_support_set/rpe1.h5\n",
      "[INFO] Loading index: obs\n",
      "[INFO] Loading index: var\n",
      "[INFO] Loading index: dat (implicitly)\n",
      "2025-09-02 11:53:01,783 - protoplast.scrna.anndata.dataloader - INFO - n_obs for /home/tphan/state/state/competition_support_set/rpe1.h5: 22317\n",
      "2025-09-02 11:53:01,783 - protoplast.scrna.anndata.dataloader - INFO - write mmap file for /home/tphan/state/state/competition_support_set/k562.h5\n",
      "[INFO] Loading index: obs\n",
      "[INFO] Loading index: var\n",
      "[INFO] Loading index: dat (implicitly)\n",
      "2025-09-02 11:53:01,793 - protoplast.scrna.anndata.dataloader - INFO - n_obs for /home/tphan/state/state/competition_support_set/k562.h5: 18465\n",
      "2025-09-02 11:53:01,794 - protoplast.scrna.anndata.dataloader - INFO - write mmap file for /home/tphan/state/state/competition_support_set/k562_gwps.h5\n",
      "[INFO] Loading index: obs\n",
      "[INFO] Loading index: var\n",
      "[INFO] Loading index: dat (implicitly)\n",
      "2025-09-02 11:53:01,818 - protoplast.scrna.anndata.dataloader - INFO - n_obs for /home/tphan/state/state/competition_support_set/k562_gwps.h5: 111605\n",
      "2025-09-02 11:53:01,819 - protoplast.scrna.anndata.dataloader - INFO - write mmap file for /home/tphan/state/state/competition_support_set/jurkat.h5\n",
      "[INFO] Loading index: obs\n",
      "[INFO] Loading index: var\n",
      "[INFO] Loading index: dat (implicitly)\n",
      "2025-09-02 11:53:01,829 - protoplast.scrna.anndata.dataloader - INFO - n_obs for /home/tphan/state/state/competition_support_set/jurkat.h5: 21412\n",
      "2025-09-02 11:53:01,830 - protoplast.scrna.anndata.dataloader - INFO - write mmap file for /home/tphan/state/state/competition_support_set/competition_train.h5\n",
      "[INFO] Loading index: obs\n",
      "[INFO] Loading index: var\n",
      "[INFO] Loading index: dat (implicitly)\n",
      "2025-09-02 11:53:01,873 - protoplast.scrna.anndata.dataloader - INFO - n_obs for /home/tphan/state/state/competition_support_set/competition_train.h5: 221273\n",
      "2025-09-02 11:53:01,874 - protoplast.scrna.anndata.dataloader - INFO - write mmap file for /home/tphan/state/state/competition_support_set/hepg2.h5\n",
      "[INFO] Loading index: obs\n",
      "[INFO] Loading index: var\n",
      "[INFO] Loading index: dat (implicitly)\n",
      "2025-09-02 11:53:01,884 - protoplast.scrna.anndata.dataloader - INFO - n_obs for /home/tphan/state/state/competition_support_set/hepg2.h5: 9386\n",
      "2025-09-02 11:53:02,334 - protoplast.scrna.anndata.dataloader - INFO - n_cells: 404458\n",
      "2025-09-02 11:53:02,335 - protoplast.scrna.anndata.dataloader - INFO - n_genes: 18080\n",
      "2025-09-02 11:53:02,556 - protoplast.scrna.anndata.dataloader - INFO - Total unique cell types: 5\n",
      "2025-09-02 11:53:02,918 - protoplast.scrna.anndata.dataloader - INFO - Total unique perturbations in training set: 373\n",
      "2025-09-02 11:53:02,958 - protoplast.scrna.anndata.dataloader - INFO - Total perturbations (vocab + training set): 18270\n",
      "2025-09-02 11:53:03,265 - protoplast.scrna.anndata.dataloader - INFO - Total unique batches: 536\n",
      "2025-09-02 11:53:03,274 - protoplast.scrna.anndata.dataloader - INFO - Total control cells: 114493\n"
     ]
    }
   ],
   "source": [
    "# TODO: we create the dataset object here just to get the methods to create one-hot encoding for target_gene and for cell type. Expose some ultilities function later\n",
    "import glob\n",
    "data_dir = \"/home/tphan/state/state/competition_support_set/*.h5\"\n",
    "from protoplast.scrna.anndata.dataloader import PerturbDataset\n",
    "ds = PerturbDataset(glob.glob(data_dir))"
   ]
  },
  {
   "cell_type": "code",
   "execution_count": 5,
   "id": "e507521c-a13c-4a84-83c9-b0475aaf1c02",
   "metadata": {},
   "outputs": [
    {
     "data": {
      "text/plain": [
       "18270"
      ]
     },
     "execution_count": 5,
     "metadata": {},
     "output_type": "execute_result"
    }
   ],
   "source": [
    "len(ds.perturbs_vocab)"
   ]
  },
  {
   "cell_type": "code",
   "execution_count": 6,
   "id": "25cd4bdb-f2ca-4f2d-8506-6d419be957b5",
   "metadata": {},
   "outputs": [
    {
     "data": {
      "text/plain": [
       "<All keys matched successfully>"
      ]
     },
     "execution_count": 6,
     "metadata": {},
     "output_type": "execute_result"
    }
   ],
   "source": [
    "from protoplast.scrna.models.baseline import BaselinePerturbModel\n",
    "import torch\n",
    "G = 18080           # genes\n",
    "n_cell_lines = 5\n",
    "n_targets = 373   # genes + control\n",
    "\n",
    "device = \"cuda\" if torch.cuda.is_available() else \"cpu\"\n",
    "last_ck = \"baseline-delta/epoch=45.pt\"\n",
    "\n",
    "ckpt = torch.load(last_ck, map_location=device)\n",
    "model = BaselinePerturbModel(G, n_cell_lines, len(ds.perturbs_vocab)).to(device)\n",
    "model.load_state_dict(ckpt[\"model_state\"])"
   ]
  },
  {
   "cell_type": "code",
   "execution_count": 8,
   "id": "c06f36cf-6763-4858-b430-a2b893519a71",
   "metadata": {
    "scrolled": true
   },
   "outputs": [
    {
     "name": "stdout",
     "output_type": "stream",
     "text": [
      "working on gene: 0\n",
      "working on gene: 5\n",
      "working on gene: 10\n",
      "working on gene: 15\n",
      "working on gene: 20\n",
      "working on gene: 25\n",
      "working on gene: 30\n",
      "working on gene: 35\n",
      "working on gene: 40\n",
      "working on gene: 45\n"
     ]
    }
   ],
   "source": [
    "import numpy as np\n",
    "import pandas as pd\n",
    "from numpy.typing import NDArray\n",
    "import anndata as ad\n",
    "import torch.nn.functional as F\n",
    "from scipy import sparse\n",
    "\n",
    "def model_inference(model,\n",
    "                    ds,\n",
    "                    pert_names: NDArray[np.str_],\n",
    "                    cell_counts: NDArray[np.int64],\n",
    "                    pert_vocab: NDArray[np.str_],\n",
    "                    cell_type_onehot: NDArray[np.float32],\n",
    "                    gene_names: NDArray[np.str_],\n",
    "                    max_count: int | float = 1e4,\n",
    "                    control_ratio = .3\n",
    "                   ):\n",
    "\n",
    "    obs_target_genes = []\n",
    "    X = None\n",
    "    total_cell = 0\n",
    "    for i, target_gene in enumerate(pert_names):\n",
    "        if not i % 5:\n",
    "            print(f\"working on gene: {i}\")\n",
    "        n_cells = int(cell_counts[i] * (1 + control_ratio))\n",
    "        total_cell += n_cells\n",
    "        n_ctrl = int(n_cells * control_ratio)\n",
    "        n_pert = n_cells - n_ctrl\n",
    "\n",
    "        xp_idx = np.where(gene_names == target_gene)[0]\n",
    "\n",
    "        xp = ds.get_onehot_perturbs(torch.tensor(xp_idx, device = device)).float()\n",
    "        xp = xp.squeeze(0).expand(n_cells, -1)\n",
    "        y = torch.tensor(cell_type_onehot, device = device).float()\n",
    "        y = y.squeeze(0).expand(n_cells, -1)\n",
    "        xh_ctrl, delta, xh_prt = model(y, xp)\n",
    "        ctrl_X = xh_ctrl[0:n_ctrl].detach().cpu().numpy()\n",
    "        ctrl_X = sparse.csr_matrix(ctrl_X) \n",
    "        pert_X = xh_prt[n_ctrl:n_cells].detach().cpu().numpy()\n",
    "        pert_X = sparse.csr_matrix(pert_X) \n",
    "        # TODO, make it sparse\n",
    "        if X is None:\n",
    "            X = sparse.vstack([ctrl_X, pert_X], format='csr')\n",
    "        else:\n",
    "            X = sparse.vstack([X, ctrl_X, pert_X], format='csr')\n",
    "        obs_target_genes += [\"non-targeting\"] * n_ctrl + [target_gene] * n_pert\n",
    "    return ad.AnnData(\n",
    "        X=X,\n",
    "        obs=pd.DataFrame(\n",
    "            {\n",
    "                \"target_gene\": obs_target_genes,\n",
    "            },\n",
    "            index=np.arange(total_cell).astype(str),\n",
    "        ),\n",
    "        var=pd.DataFrame(index=gene_names),\n",
    "    )\n",
    "        \n",
    "adata = model_inference(model, ds, pert_counts[\"target_gene\"].to_numpy(), pert_counts[\"n_cells\"].to_numpy(), ds.perturbs_vocab, np.array([1, 0, 0, 0, 0]), gene_names)"
   ]
  },
  {
   "cell_type": "markdown",
   "id": "d5dbd56d",
   "metadata": {},
   "source": [
    "### Run our random predictor"
   ]
  },
  {
   "cell_type": "code",
   "execution_count": 4,
   "id": "1273bea1",
   "metadata": {},
   "outputs": [
    {
     "data": {
      "text/plain": [
       "AnnData object with n_obs × n_vars = 60751 × 18080\n",
       "    obs: 'target_gene'"
      ]
     },
     "execution_count": 4,
     "metadata": {},
     "output_type": "execute_result"
    }
   ],
   "source": [
    "adata = random_predictor(\n",
    "    pert_names=pert_counts[\"target_gene\"].to_numpy(),\n",
    "    cell_counts=pert_counts[\"n_cells\"].to_numpy(),\n",
    "    gene_names=gene_names,\n",
    ")\n",
    "adata"
   ]
  },
  {
   "cell_type": "markdown",
   "id": "9f9de9dd",
   "metadata": {},
   "source": [
    "### Adding in Non-Targeting Controls if you are not predicting them\n",
    "\n",
    "Our evaluation framework expects non-targeting controls to be included in the predicted AnnData, but not all models may try to predict non-targeting controls.\n",
    "If you are not predicting non-targeting controls, you can take the non-targeting from the training AnnData and just copy them over into your predicted AnnData for validation."
   ]
  },
  {
   "cell_type": "code",
   "execution_count": 5,
   "id": "3879267c",
   "metadata": {},
   "outputs": [],
   "source": [
    "# Define our path to the training anndata\n",
    "tr_adata_path = \"./adata_Training.h5ad\"\n",
    "\n",
    "# Read in the anndata\n",
    "tr_adata = ad.read_h5ad(tr_adata_path)\n",
    "\n",
    "# Filter for non-targeting\n",
    "ntc_adata = tr_adata[tr_adata.obs[\"target_gene\"] == \"non-targeting\"]\n",
    "\n",
    "# Append the non-targeting controls to the example anndata if they're missing\n",
    "if \"non-targeting\" not in adata.obs[\"target_gene\"].unique():\n",
    "    assert np.all(adata.var_names.values == ntc_adata.var_names.values), (\n",
    "        \"Gene-Names are out of order or unequal\"\n",
    "    )\n",
    "    adata = ad.concat(\n",
    "        [\n",
    "            adata,\n",
    "            ntc_adata,\n",
    "        ]\n",
    "    )"
   ]
  },
  {
   "cell_type": "markdown",
   "id": "6f19ac72",
   "metadata": {},
   "source": [
    "### Write our predictions to some output path"
   ]
  },
  {
   "cell_type": "code",
   "execution_count": 11,
   "id": "386ee994",
   "metadata": {},
   "outputs": [],
   "source": [
    "adata.write_h5ad(\"./baseline-delta-1.h5ad\")"
   ]
  },
  {
   "cell_type": "markdown",
   "id": "29cd57ef",
   "metadata": {},
   "source": [
    "## Running `cell-eval prep`\n",
    "\n",
    "Now that we have our predictions, we will run `cell-eval` to prepare our AnnData for competition scoring."
   ]
  },
  {
   "cell_type": "markdown",
   "id": "7716a83e",
   "metadata": {},
   "source": [
    "```bash\n",
    "cell-eval prep \\\n",
    "    -i ./example.h5ad \\\n",
    "    --genes ./gene_names.csv\n",
    "```"
   ]
  },
  {
   "cell_type": "markdown",
   "id": "6f938a60",
   "metadata": {},
   "source": [
    "And that's it! Your model outputs will be output to path: `./example.prep.vcc` are ready for scoring."
   ]
  }
 ],
 "metadata": {
  "kernelspec": {
   "display_name": "Python 3 (ipykernel)",
   "language": "python",
   "name": "python3"
  },
  "language_info": {
   "codemirror_mode": {
    "name": "ipython",
    "version": 3
   },
   "file_extension": ".py",
   "mimetype": "text/x-python",
   "name": "python",
   "nbconvert_exporter": "python",
   "pygments_lexer": "ipython3",
   "version": "3.12.11"
  }
 },
 "nbformat": 4,
 "nbformat_minor": 5
}
