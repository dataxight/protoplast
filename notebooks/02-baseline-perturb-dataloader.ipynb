{
 "cells": [
  {
   "cell_type": "code",
   "execution_count": 1,
   "id": "6bc23039-bbfc-434b-a039-44c7c9b4718e",
   "metadata": {},
   "outputs": [],
   "source": [
    "import os\n",
    "os.environ[\"PYTORCH_CUDA_ALLOC_CONF\"] = \"expandable_segments:True\""
   ]
  },
  {
   "cell_type": "code",
   "execution_count": 2,
   "id": "4c0ba4ed-e069-4af4-a18d-548763ab1dff",
   "metadata": {},
   "outputs": [
    {
     "name": "stderr",
     "output_type": "stream",
     "text": [
      "Dataset path does not exist: /home/tphan/state/state/competition_support_set/{competition_train,k562_gwps,rpe1,jurkat,k562,hepg2}.h5\n"
     ]
    },
    {
     "name": "stdout",
     "output_type": "stream",
     "text": [
      "/home/tphan/state/state/competition_support_set/{competition_train,k562_gwps,rpe1,jurkat,k562,hepg2}.h5\n"
     ]
    },
    {
     "name": "stderr",
     "output_type": "stream",
     "text": [
      "Processing replogle_h1:   0%|                                                                                        | 0/6 [00:00<?, ?it/s][INFO] Loading index: obs\n",
      "[INFO] Loading index: var\n",
      "[INFO] Loading index: dat (implicitly)\n",
      "Processing replogle_h1:   0%|                                                                                        | 0/6 [00:00<?, ?it/s][INFO] Loading index: obs\n",
      "[INFO] Loading index: var\n",
      "[INFO] Loading index: dat (implicitly)\n",
      "Processing replogle_h1:  33%|██████████████████████████▋                                                     | 2/6 [00:00<00:00, 13.70it/s][INFO] Loading index: obs\n",
      "[INFO] Loading index: var\n",
      "[INFO] Loading index: dat (implicitly)\n",
      "Processing replogle_h1:  33%|██████████████████████████▋                                                     | 2/6 [00:00<00:00, 13.70it/s][INFO] Loading index: obs\n",
      "[INFO] Loading index: var\n",
      "[INFO] Loading index: dat (implicitly)\n",
      "Processing replogle_h1:  33%|██████████████████████████▋                                                     | 2/6 [00:00<00:00, 13.70it/s][INFO] Loading index: obs\n",
      "[INFO] Loading index: var\n",
      "[INFO] Loading index: dat (implicitly)\n",
      "Processing replogle_h1:  33%|██████████████████████████▋                                                     | 2/6 [00:00<00:00, 13.70it/s][INFO] Loading index: obs\n",
      "[INFO] Loading index: var\n",
      "[INFO] Loading index: dat (implicitly)\n",
      "Processing replogle_h1: 100%|████████████████████████████████████████████████████████████████████████████████| 6/6 [00:00<00:00, 23.68it/s]"
     ]
    },
    {
     "name": "stdout",
     "output_type": "stream",
     "text": [
      "Processed competition_train: 221273 train, 0 val, 0 test\n",
      "Processed k562_gwps: 111605 train, 0 val, 0 test\n",
      "Processed rpe1: 22317 train, 0 val, 0 test\n",
      "Processed jurkat: 21412 train, 0 val, 0 test\n",
      "Processed k562: 18465 train, 0 val, 0 test\n",
      "Processed hepg2: 0 train, 0 val, 9386 test\n"
     ]
    },
    {
     "name": "stderr",
     "output_type": "stream",
     "text": [
      "\n"
     ]
    }
   ],
   "source": [
    "from cell_load.data_modules import PerturbationDataModule\n",
    "dm = PerturbationDataModule(\n",
    "    toml_config_path=\"starter.toml\",\n",
    "    embed_key=None, \n",
    "    num_workers=8,\n",
    "    batch_col=\"batch_var\",\n",
    "    pert_col=\"target_gene\",\n",
    "    cell_type_key=\"cell_type\",\n",
    "    control_pert=\"non-targeting\",\n",
    "    use_scplode = True,\n",
    "    perturbation_features_file=\"/home/tphan/state/state/competition_support_set/ESM2_pert_features.pt\",\n",
    "    output_space=\"gene\",\n",
    "    basal_mapping_strategy=\"random\",\n",
    "    n_basal_samples=1,\n",
    "    should_yield_control_cells=True,\n",
    "    batch_size=16,\n",
    ")\n",
    "dm.setup()"
   ]
  },
  {
   "cell_type": "code",
   "execution_count": 3,
   "id": "7b6914ad-afe3-4ab5-813c-9c1b1be4e6d4",
   "metadata": {},
   "outputs": [],
   "source": [
    "# # Get training data\n",
    "# train_loader = dm.train_dataloader()\n",
    "# for batch in train_loader:\n",
    "#     print(batch[\"cell_type_onehot\"].shape)\n",
    "#     print(batch[\"pert_cell_emb\"].shape)\n",
    "#     print(batch[\"ctrl_cell_emb\"].shape)\n",
    "#     print(batch[\"pert_emb\"].shape)\n",
    "#     break"
   ]
  },
  {
   "cell_type": "code",
   "execution_count": 4,
   "id": "8cab8eaa-a20f-4200-908f-0580adcfa081",
   "metadata": {},
   "outputs": [],
   "source": [
    "def _to_BG(t):\n",
    "    if t.ndim == 3 and t.size(1) == 1: t = t.squeeze(1)\n",
    "    if t.ndim == 3 and t.size(-1) == 1: t = t.squeeze(-1)\n",
    "    if t.ndim == 1: t = t.unsqueeze(0)\n",
    "    if t.ndim != 2: t = t.view(t.size(0), -1)\n",
    "    return t.contiguous()\n"
   ]
  },
  {
   "cell_type": "code",
   "execution_count": 5,
   "id": "2b1aead9-be0f-460c-bec4-9f54c26edeb1",
   "metadata": {},
   "outputs": [
    {
     "name": "stderr",
     "output_type": "stream",
     "text": [
      "\u001b[34m\u001b[1mwandb\u001b[0m: Currently logged in as: \u001b[33mtanphan-dxt\u001b[0m (\u001b[33mtanphan-dxt-dataxight\u001b[0m) to \u001b[32mhttps://api.wandb.ai\u001b[0m. Use \u001b[1m`wandb login --relogin`\u001b[0m to force relogin\n"
     ]
    },
    {
     "data": {
      "text/html": [
       "creating run (0.0s)"
      ],
      "text/plain": [
       "<IPython.core.display.HTML object>"
      ]
     },
     "metadata": {},
     "output_type": "display_data"
    },
    {
     "data": {
      "text/html": [
       "Tracking run with wandb version 0.21.3"
      ],
      "text/plain": [
       "<IPython.core.display.HTML object>"
      ]
     },
     "metadata": {},
     "output_type": "display_data"
    },
    {
     "data": {
      "text/html": [
       "Run data is saved locally in <code>/home/tphan/Softwares/protoplast/notebooks/wandb/run-20250902_165052-7opznwob</code>"
      ],
      "text/plain": [
       "<IPython.core.display.HTML object>"
      ]
     },
     "metadata": {},
     "output_type": "display_data"
    },
    {
     "data": {
      "text/html": [
       "Syncing run <strong><a href='https://wandb.ai/tanphan-dxt-dataxight/vcc-simple/runs/7opznwob' target=\"_blank\">baseline-delta-pert-emb</a></strong> to <a href='https://wandb.ai/tanphan-dxt-dataxight/vcc-simple' target=\"_blank\">Weights & Biases</a> (<a href='https://wandb.me/developer-guide' target=\"_blank\">docs</a>)<br>"
      ],
      "text/plain": [
       "<IPython.core.display.HTML object>"
      ]
     },
     "metadata": {},
     "output_type": "display_data"
    },
    {
     "data": {
      "text/html": [
       " View project at <a href='https://wandb.ai/tanphan-dxt-dataxight/vcc-simple' target=\"_blank\">https://wandb.ai/tanphan-dxt-dataxight/vcc-simple</a>"
      ],
      "text/plain": [
       "<IPython.core.display.HTML object>"
      ]
     },
     "metadata": {},
     "output_type": "display_data"
    },
    {
     "data": {
      "text/html": [
       " View run at <a href='https://wandb.ai/tanphan-dxt-dataxight/vcc-simple/runs/7opznwob' target=\"_blank\">https://wandb.ai/tanphan-dxt-dataxight/vcc-simple/runs/7opznwob</a>"
      ],
      "text/plain": [
       "<IPython.core.display.HTML object>"
      ]
     },
     "metadata": {},
     "output_type": "display_data"
    }
   ],
   "source": [
    "import wandb\n",
    "\n",
    "# Start a new wandb run to track this script.\n",
    "run = wandb.init(\n",
    "    # Set the wandb entity where your project will be logged (generally your team name).\n",
    "    entity=\"tanphan-dxt-dataxight\",\n",
    "    # Set the wandb project where this run will be logged.\n",
    "    project=\"vcc-simple\",\n",
    "    # Track hyperparameters and run metadata.\n",
    "    name=\"baseline-delta-pert-emb\",\n",
    "    config={\n",
    "        \"learning_rate\": 0.001,\n",
    "        \"architecture\": \"baseline-delta\",\n",
    "        \"dataset\": \"competition_support\",\n",
    "        \"epochs\": 30,\n",
    "        \"gpu\":\"rtx-3080\",\n",
    "        \"loss\": \"ctrl+pert+delta\"\n",
    "    },\n",
    ")"
   ]
  },
  {
   "cell_type": "code",
   "execution_count": 6,
   "id": "f6fb5759-ebee-4218-b4b0-ac3d9b63dbb8",
   "metadata": {},
   "outputs": [],
   "source": [
    "tfrom tqdm import tqdm\n",
    "import torch.nn.functional as F\n",
    "\n",
    "def train_baseline_epoch(\n",
    "    model,\n",
    "    dataloader,\n",
    "    optimizer,\n",
    "    epoch: int,\n",
    "    device: str = \"cuda\",\n",
    "    use_amp: bool = True\n",
    "):\n",
    "    model.train()\n",
    "    total_loss = 0.0\n",
    "\n",
    "    # AMP context + persistent scaler\n",
    "    amp_ctx = torch.cuda.amp.autocast if (use_amp and torch.cuda.is_available()) else nullcontext\n",
    "    scaler = getattr(train_baseline_epoch, \"_scaler\", None)\n",
    "    if scaler is None and use_amp and torch.cuda.is_available():\n",
    "        scaler = torch.cuda.amp.GradScaler()\n",
    "        train_baseline_epoch._scaler = scaler\n",
    "\n",
    "    pbar = tqdm(dataloader, desc=f\"Epoch {epoch}\", leave=False)\n",
    "    for step, batch in enumerate(pbar, 1):\n",
    "        x, y, xp, x_ctrl_match = batch[\"pert_cell_emb\"], batch[\"cell_type_onehot\"], batch[\"pert_emb\"], batch[\"ctrl_cell_emb\"]\n",
    "        x = x.squeeze(1)\n",
    "        x_ctrl_match = x_ctrl_match.squeeze(1)\n",
    "        x, y, xp, x_ctrl_match = x.to(device), y.to(device), xp.to(device), x_ctrl_match.to(device)\n",
    "        \n",
    "        with amp_ctx():\n",
    "            x_ctrl_pred, delta_pred, x_pred = model(y, xp)\n",
    "\n",
    "            x           = _to_BG(x)\n",
    "            x_ctrl_match= _to_BG(x_ctrl_match)\n",
    "            x_ctrl_pred = _to_BG(x_ctrl_pred)\n",
    "            x_pred      = _to_BG(x_pred)\n",
    "            delta_pred  = _to_BG(delta_pred)\n",
    "            \n",
    "            true_delta  = _to_BG(x - x_ctrl_match)\n",
    "\n",
    "            # Make sure dtype/device match (esp. with AMP)\n",
    "            if delta_pred.dtype != true_delta.dtype:\n",
    "                true_delta = true_delta.to(delta_pred.dtype)\n",
    "            \n",
    "            # Assert exact shape equality; fail fast if not\n",
    "            assert x_ctrl_pred.shape == x_ctrl_match.shape, f\"{x_ctrl_pred.shape=} vs {x_ctrl_match.shape=}\"\n",
    "            assert x_pred.shape      == x.shape,            f\"{x_pred.shape=} vs {x.shape=}\"\n",
    "            assert delta_pred.shape  == true_delta.shape,   f\"{delta_pred.shape=} vs {true_delta.shape=}\"\n",
    "\n",
    "            # Losses\n",
    "            loss_ctrl = F.mse_loss(x_ctrl_pred, x_ctrl_match)\n",
    "            loss_pert = F.mse_loss(x_pred, x)\n",
    "            true_delta = x - x_ctrl_match\n",
    "            loss_delta = F.mse_loss(delta_pred, true_delta)\n",
    "            \n",
    "\n",
    "            loss = loss_ctrl + loss_pert + loss_delta\n",
    "\n",
    "            wandb.log({\n",
    "                \"train/loss_step\": loss.item(),\n",
    "                \"epoch\": epoch,\n",
    "                \"step\": step + (epoch-1)*len(train_loader)\n",
    "            })\n",
    "\n",
    "        optimizer.zero_grad(set_to_none=True)\n",
    "        if scaler is not None:\n",
    "            scaler.scale(loss).backward()\n",
    "            scaler.step(optimizer)\n",
    "            scaler.update()\n",
    "        else:\n",
    "            loss.backward()\n",
    "            optimizer.step()\n",
    "\n",
    "        total_loss += float(loss.detach().item())\n",
    "        pbar.set_postfix({\"loss\": f\"{total_loss / (pbar.n or 1):.4f}\"})\n",
    "\n",
    "    avg_loss = total_loss / max(1, len(dataloader))\n",
    "    wandb.log({\n",
    "        \"train/loss_epoch\": avg_loss,\n",
    "        \"epoch\": epoch\n",
    "    })\n",
    "    return avg_loss"
   ]
  },
  {
   "cell_type": "code",
   "execution_count": 7,
   "id": "357adfa4-6e68-4cbb-a7f4-53a073cba3cb",
   "metadata": {},
   "outputs": [],
   "source": [
    "def save_checkpoint(model, optimizer, epoch, model_dir):\n",
    "    torch.save({\n",
    "        \"epoch\": epoch,\n",
    "        \"model_state\": model.state_dict(),\n",
    "        \"optimizer_state\": optimizer.state_dict(),\n",
    "    }, f\"{model_dir}/epoch={epoch}.pt\")"
   ]
  },
  {
   "cell_type": "code",
   "execution_count": 8,
   "id": "6a5725b0-a42a-41a8-9491-bda63cbaf237",
   "metadata": {},
   "outputs": [
    {
     "name": "stderr",
     "output_type": "stream",
     "text": [
      "                                                                                                                                           "
     ]
    },
    {
     "name": "stdout",
     "output_type": "stream",
     "text": [
      "\u001b[1;34mwandb\u001b[0m: \n",
      "\u001b[1;34mwandb\u001b[0m: 🚀 View run \u001b[33mbaseline-delta-pert-emb\u001b[0m at: \u001b[34mhttps://wandb.ai/tanphan-dxt-dataxight/vcc-simple/runs/7opznwob\u001b[0m\n",
      "\u001b[1;34mwandb\u001b[0m: Find logs at: \u001b[1;35mwandb/run-20250902_165052-7opznwob/logs\u001b[0m\n"
     ]
    }
   ],
   "source": [
    "import os\n",
    "import torch\n",
    "from protoplast.scrna.models.baseline import BaselinePerturbModel\n",
    "\n",
    "G = 18080           # genes\n",
    "n_cell_lines = 5\n",
    "pert_d = 5120   # genes + control\n",
    "\n",
    "device = \"cuda\" if torch.cuda.is_available() else \"cpu\"\n",
    "start_epoch = 10\n",
    "max_epoch = 30\n",
    "last_ck = f\"epoch={start_epoch}.pt\"\n",
    "\n",
    "model = BaselinePerturbModel(G, n_cell_lines, pert_d).to(device)\n",
    "optimizer = optim.AdamW(model.parameters(), lr=1e-3, weight_decay=1e-4)\n",
    "train_loader = dm.train_dataloader()\n",
    "\n",
    "if os.path.exists(last_ck):\n",
    "    ckpt = torch.load(last_ck, map_location=device)\n",
    "    model.load_state_dict(ckpt[\"model_state\"])\n",
    "    optimizer.load_state_dict(ckpt[\"optimizer_state\"])\n",
    "else:\n",
    "    start_epoch = 1\n",
    "    \n",
    "# wandb.watch(model, log=\"all\")\n",
    "\n",
    "for epoch in range(start_epoch, max_epoch + 1):\n",
    "    loss = train_baseline_epoch(model, train_loader, optimizer, epoch)\n",
    "    if not (epoch) % 10:\n",
    "        save_checkpoint(model, optimizer, epoch, \"baseline-delta-pert-emb\")"
   ]
  },
  {
   "cell_type": "code",
   "execution_count": null,
   "id": "6c672ec8-8502-4c1a-b3a7-4a905fde3f17",
   "metadata": {},
   "outputs": [],
   "source": []
  }
 ],
 "metadata": {
  "kernelspec": {
   "display_name": "Python 3 (ipykernel)",
   "language": "python",
   "name": "python3"
  },
  "language_info": {
   "codemirror_mode": {
    "name": "ipython",
    "version": 3
   },
   "file_extension": ".py",
   "mimetype": "text/x-python",
   "name": "python",
   "nbconvert_exporter": "python",
   "pygments_lexer": "ipython3",
   "version": "3.12.11"
  }
 },
 "nbformat": 4,
 "nbformat_minor": 5
}
