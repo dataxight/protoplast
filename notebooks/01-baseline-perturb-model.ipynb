{
 "cells": [
  {
   "cell_type": "code",
   "execution_count": 2,
   "id": "6bfb8e63",
   "metadata": {},
   "outputs": [
    {
     "name": "stdout",
     "output_type": "stream",
     "text": [
      "✓ Applied AnnDataFileManager patch\n"
     ]
    }
   ],
   "source": [
    "%load_ext autoreload\n",
    "%autoreload 2\n",
    "from protoplast.scrna.anndata.dataloader import PerturbDataset\n",
    "from protoplast.scrna.models.baseline import BaselinePerturbModel"
   ]
  },
  {
   "cell_type": "code",
   "execution_count": 3,
   "id": "1219c555-d73b-4053-a4a0-2c7c573c0fc8",
   "metadata": {},
   "outputs": [],
   "source": [
    "import torch.optim as optim\n",
    "from tqdm import tqdm\n",
    "import torch.nn.functional as F\n",
    "\n",
    "def train_baseline_epoch(model, dataloader, optimizer, device=\"cuda\"):\n",
    "    model.train()\n",
    "    total_loss = 0.0\n",
    "    pbar = tqdm(dataloader, desc=f\"Epoch {epoch}\", leave=False)\n",
    "    for x, y, b, xp, x_ctrl_match in pbar:\n",
    "        x, y, xp, x_ctrl_match = x.to(device), y.to(device), xp.to(device), x_ctrl_match.to(device)\n",
    "        \n",
    "        x_ctrl_pred, delta_pred, x_pred = model(y, xp)\n",
    "        \n",
    "        is_ctrl = (xp.sum() == 0)\n",
    "        is_pert = ~is_ctrl\n",
    "        \n",
    "        # Losses\n",
    "        # .squeeze to remove the extra dimension getting from adata\n",
    "        loss_ctrl = F.mse_loss(x_ctrl_pred[is_ctrl], x[is_ctrl].squeeze(2)) if is_ctrl.any() else 0.0\n",
    "        loss_pert = F.mse_loss(x_pred[is_pert], x[is_pert].squeeze(2)) if is_pert.any() else 0.0\n",
    "        if is_pert.any():\n",
    "            true_delta = x[is_pert] - x_ctrl_match[is_pert]\n",
    "            loss_delta = F.mse_loss(delta_pred[is_pert], true_delta.squeeze(2))\n",
    "        else:\n",
    "            loss_delta = 0.0\n",
    "        \n",
    "        # Total loss\n",
    "        loss = loss_ctrl + loss_pert + loss_delta\n",
    "        \n",
    "        optimizer.zero_grad()\n",
    "        loss.backward()\n",
    "        optimizer.step()\n",
    "        \n",
    "        total_loss += float(loss.item())\n",
    "    avg_loss = total_loss / len(dataloader)\n",
    "    pbar.set_postfix({\"loss\": f\"{avg_loss:.4f}\"})\n",
    "    return avg_loss"
   ]
  },
  {
   "cell_type": "code",
   "execution_count": 4,
   "id": "5b5af81c-b74a-443b-beea-154365cab5c7",
   "metadata": {
    "scrolled": true
   },
   "outputs": [
    {
     "name": "stderr",
     "output_type": "stream",
     "text": [
      "2025-09-02 10:39:29,646 - protoplast.scrna.anndata.dataloader - INFO - write mmap file for /home/tphan/state/state/competition_support_set/rpe1.h5\n",
      "[INFO] Loading index: obs\n",
      "[INFO] Loading index: var\n",
      "[INFO] Loading index: dat (implicitly)\n",
      "2025-09-02 10:39:29,656 - protoplast.scrna.anndata.dataloader - INFO - n_obs for /home/tphan/state/state/competition_support_set/rpe1.h5: 22317\n",
      "2025-09-02 10:39:29,657 - protoplast.scrna.anndata.dataloader - INFO - write mmap file for /home/tphan/state/state/competition_support_set/k562.h5\n",
      "[INFO] Loading index: obs\n",
      "[INFO] Loading index: var\n",
      "[INFO] Loading index: dat (implicitly)\n",
      "2025-09-02 10:39:29,667 - protoplast.scrna.anndata.dataloader - INFO - n_obs for /home/tphan/state/state/competition_support_set/k562.h5: 18465\n",
      "2025-09-02 10:39:29,667 - protoplast.scrna.anndata.dataloader - INFO - write mmap file for /home/tphan/state/state/competition_support_set/k562_gwps.h5\n",
      "[INFO] Loading index: obs\n",
      "[INFO] Loading index: var\n",
      "[INFO] Loading index: dat (implicitly)\n",
      "2025-09-02 10:39:29,692 - protoplast.scrna.anndata.dataloader - INFO - n_obs for /home/tphan/state/state/competition_support_set/k562_gwps.h5: 111605\n",
      "2025-09-02 10:39:29,693 - protoplast.scrna.anndata.dataloader - INFO - write mmap file for /home/tphan/state/state/competition_support_set/jurkat.h5\n",
      "[INFO] Loading index: obs\n",
      "[INFO] Loading index: var\n",
      "[INFO] Loading index: dat (implicitly)\n",
      "2025-09-02 10:39:29,702 - protoplast.scrna.anndata.dataloader - INFO - n_obs for /home/tphan/state/state/competition_support_set/jurkat.h5: 21412\n",
      "2025-09-02 10:39:29,703 - protoplast.scrna.anndata.dataloader - INFO - write mmap file for /home/tphan/state/state/competition_support_set/competition_train.h5\n",
      "[INFO] Loading index: obs\n",
      "[INFO] Loading index: var\n",
      "[INFO] Loading index: dat (implicitly)\n",
      "2025-09-02 10:39:29,740 - protoplast.scrna.anndata.dataloader - INFO - n_obs for /home/tphan/state/state/competition_support_set/competition_train.h5: 221273\n",
      "2025-09-02 10:39:29,740 - protoplast.scrna.anndata.dataloader - INFO - write mmap file for /home/tphan/state/state/competition_support_set/hepg2.h5\n",
      "[INFO] Loading index: obs\n",
      "[INFO] Loading index: var\n",
      "[INFO] Loading index: dat (implicitly)\n",
      "2025-09-02 10:39:29,750 - protoplast.scrna.anndata.dataloader - INFO - n_obs for /home/tphan/state/state/competition_support_set/hepg2.h5: 9386\n",
      "2025-09-02 10:39:30,195 - protoplast.scrna.anndata.dataloader - INFO - n_cells: 404458\n",
      "2025-09-02 10:39:30,196 - protoplast.scrna.anndata.dataloader - INFO - n_genes: 18080\n",
      "2025-09-02 10:39:30,411 - protoplast.scrna.anndata.dataloader - INFO - Total unique cell types: 5\n",
      "2025-09-02 10:39:30,777 - protoplast.scrna.anndata.dataloader - INFO - Total unique perturbations in training set: 373\n",
      "2025-09-02 10:39:30,802 - protoplast.scrna.anndata.dataloader - INFO - Total perturbations (vocab + training set): 18270\n",
      "2025-09-02 10:39:31,114 - protoplast.scrna.anndata.dataloader - INFO - Total unique batches: 536\n",
      "2025-09-02 10:39:31,125 - protoplast.scrna.anndata.dataloader - INFO - Total control cells: 114493\n"
     ]
    }
   ],
   "source": [
    "import glob\n",
    "data_dir = \"/home/tphan/state/state/competition_support_set/*.h5\"\n",
    "ds = PerturbDataset(glob.glob(data_dir))"
   ]
  },
  {
   "cell_type": "code",
   "execution_count": 5,
   "id": "e46f89d3-4320-41ee-915d-7bcd95da3697",
   "metadata": {},
   "outputs": [
    {
     "name": "stderr",
     "output_type": "stream",
     "text": [
      "\u001b[34m\u001b[1mwandb\u001b[0m: Currently logged in as: \u001b[33mtanphan-dxt\u001b[0m (\u001b[33mtanphan-dxt-dataxight\u001b[0m) to \u001b[32mhttps://api.wandb.ai\u001b[0m. Use \u001b[1m`wandb login --relogin`\u001b[0m to force relogin\n"
     ]
    },
    {
     "data": {
      "text/html": [
       "creating run (0.0s)"
      ],
      "text/plain": [
       "<IPython.core.display.HTML object>"
      ]
     },
     "metadata": {},
     "output_type": "display_data"
    },
    {
     "data": {
      "text/html": [
       "Tracking run with wandb version 0.21.3"
      ],
      "text/plain": [
       "<IPython.core.display.HTML object>"
      ]
     },
     "metadata": {},
     "output_type": "display_data"
    },
    {
     "data": {
      "text/html": [
       "Run data is saved locally in <code>/home/tphan/Softwares/protoplast/notebooks/wandb/run-20250902_103933-r5jihcev</code>"
      ],
      "text/plain": [
       "<IPython.core.display.HTML object>"
      ]
     },
     "metadata": {},
     "output_type": "display_data"
    },
    {
     "data": {
      "text/html": [
       "Syncing run <strong><a href='https://wandb.ai/tanphan-dxt-dataxight/vcc-simple/runs/r5jihcev' target=\"_blank\">baseline-delta</a></strong> to <a href='https://wandb.ai/tanphan-dxt-dataxight/vcc-simple' target=\"_blank\">Weights & Biases</a> (<a href='https://wandb.me/developer-guide' target=\"_blank\">docs</a>)<br>"
      ],
      "text/plain": [
       "<IPython.core.display.HTML object>"
      ]
     },
     "metadata": {},
     "output_type": "display_data"
    },
    {
     "data": {
      "text/html": [
       " View project at <a href='https://wandb.ai/tanphan-dxt-dataxight/vcc-simple' target=\"_blank\">https://wandb.ai/tanphan-dxt-dataxight/vcc-simple</a>"
      ],
      "text/plain": [
       "<IPython.core.display.HTML object>"
      ]
     },
     "metadata": {},
     "output_type": "display_data"
    },
    {
     "data": {
      "text/html": [
       " View run at <a href='https://wandb.ai/tanphan-dxt-dataxight/vcc-simple/runs/r5jihcev' target=\"_blank\">https://wandb.ai/tanphan-dxt-dataxight/vcc-simple/runs/r5jihcev</a>"
      ],
      "text/plain": [
       "<IPython.core.display.HTML object>"
      ]
     },
     "metadata": {},
     "output_type": "display_data"
    }
   ],
   "source": [
    "import wandb\n",
    "\n",
    "# Start a new wandb run to track this script.\n",
    "run = wandb.init(\n",
    "    # Set the wandb entity where your project will be logged (generally your team name).\n",
    "    entity=\"tanphan-dxt-dataxight\",\n",
    "    # Set the wandb project where this run will be logged.\n",
    "    project=\"vcc-simple\",\n",
    "    # Track hyperparameters and run metadata.\n",
    "    name=\"baseline-delta\",\n",
    "    config={\n",
    "        \"learning_rate\": 0.001,\n",
    "        \"architecture\": \"baseline-delta\",\n",
    "        \"dataset\": \"competition_support\",\n",
    "        \"epochs\": 10,\n",
    "        \"gpu\":\"rtx-3080\"\n",
    "    },\n",
    ")"
   ]
  },
  {
   "cell_type": "code",
   "execution_count": 13,
   "id": "e1b54eb8-0177-4690-bfb2-d501d13d8c75",
   "metadata": {},
   "outputs": [],
   "source": [
    "def save_checkpoint(model, optimizer, epoch, model_dir):\n",
    "    torch.save({\n",
    "        \"epoch\": epoch,\n",
    "        \"model_state\": model.state_dict(),\n",
    "        \"optimizer_state\": optimizer.state_dict(),\n",
    "    }, f\"{model_dir}/epoch={epoch}.pt\")"
   ]
  },
  {
   "cell_type": "code",
   "execution_count": 17,
   "id": "5cf403cd-018c-435b-afdc-0564cea0372d",
   "metadata": {},
   "outputs": [],
   "source": [
    "from torch.utils.data import DataLoader\n",
    "dataloader = DataLoader(ds, batch_size=256, shuffle=True, drop_last=True, pin_memory=True, num_workers=8)"
   ]
  },
  {
   "cell_type": "code",
   "execution_count": 18,
   "id": "f0c73923-5d31-4f74-af36-3aa092bc0cd4",
   "metadata": {
    "scrolled": true
   },
   "outputs": [
    {
     "name": "stderr",
     "output_type": "stream",
     "text": [
      "Exception in thread Thread-64 (_pin_memory_loop):                                                                                                           \n",
      "Traceback (most recent call last):\n",
      "  File \"/home/tphan/miniconda3/envs/python312/lib/python3.12/threading.py\", line 1075, in _bootstrap_inner\n",
      "    self.run()\n",
      "  File \"/home/tphan/miniconda3/envs/python312/lib/python3.12/site-packages/ipykernel/ipkernel.py\", line 772, in run_closure\n",
      "    _threading_Thread_run(self)\n",
      "  File \"/home/tphan/miniconda3/envs/python312/lib/python3.12/threading.py\", line 1012, in run\n",
      "    self._target(*self._args, **self._kwargs)\n",
      "  File \"/home/tphan/miniconda3/envs/python312/lib/python3.12/site-packages/torch/utils/data/_utils/pin_memory.py\", line 61, in _pin_memory_loop\n",
      "    do_one_step()\n",
      "  File \"/home/tphan/miniconda3/envs/python312/lib/python3.12/site-packages/torch/utils/data/_utils/pin_memory.py\", line 37, in do_one_step\n",
      "    r = in_queue.get(timeout=MP_STATUS_CHECK_INTERVAL)\n",
      "        ^^^^^^^^^^^^^^^^^^^^^^^^^^^^^^^^^^^^^^^^^^^^^^\n",
      "  File \"/home/tphan/miniconda3/envs/python312/lib/python3.12/multiprocessing/queues.py\", line 122, in get\n"
     ]
    },
    {
     "ename": "KeyboardInterrupt",
     "evalue": "",
     "output_type": "error",
     "traceback": [
      "\u001b[31m---------------------------------------------------------------------------\u001b[39m",
      "\u001b[31mKeyboardInterrupt\u001b[39m                         Traceback (most recent call last)",
      "\u001b[36mCell\u001b[39m\u001b[36m \u001b[39m\u001b[32mIn[18]\u001b[39m\u001b[32m, line 27\u001b[39m\n\u001b[32m     24\u001b[39m wandb.watch(model, log=\u001b[33m\"\u001b[39m\u001b[33mall\u001b[39m\u001b[33m\"\u001b[39m)\n\u001b[32m     26\u001b[39m \u001b[38;5;28;01mfor\u001b[39;00m epoch \u001b[38;5;129;01min\u001b[39;00m \u001b[38;5;28mrange\u001b[39m(start_epoch, max_epoch + \u001b[32m1\u001b[39m):\n\u001b[32m---> \u001b[39m\u001b[32m27\u001b[39m     loss = \u001b[43mtrain_baseline_epoch\u001b[49m\u001b[43m(\u001b[49m\u001b[43mmodel\u001b[49m\u001b[43m,\u001b[49m\u001b[43m \u001b[49m\u001b[43mdataloader\u001b[49m\u001b[43m,\u001b[49m\u001b[43m \u001b[49m\u001b[43moptimizer\u001b[49m\u001b[43m,\u001b[49m\u001b[43m \u001b[49m\u001b[43mdevice\u001b[49m\u001b[43m)\u001b[49m\n\u001b[32m     28\u001b[39m     wandb.log({\u001b[33m\"\u001b[39m\u001b[33mtrain/loss\u001b[39m\u001b[33m\"\u001b[39m: loss, \u001b[33m\"\u001b[39m\u001b[33mepoch\u001b[39m\u001b[33m\"\u001b[39m: epoch})\n\u001b[32m     29\u001b[39m     \u001b[38;5;28;01mif\u001b[39;00m \u001b[38;5;129;01mnot\u001b[39;00m epoch % \u001b[32m5\u001b[39m:\n",
      "\u001b[36mCell\u001b[39m\u001b[36m \u001b[39m\u001b[32mIn[3]\u001b[39m\u001b[32m, line 9\u001b[39m, in \u001b[36mtrain_baseline_epoch\u001b[39m\u001b[34m(model, dataloader, optimizer, device)\u001b[39m\n\u001b[32m      7\u001b[39m total_loss = \u001b[32m0.0\u001b[39m\n\u001b[32m      8\u001b[39m pbar = tqdm(dataloader, desc=\u001b[33mf\u001b[39m\u001b[33m\"\u001b[39m\u001b[33mEpoch \u001b[39m\u001b[38;5;132;01m{\u001b[39;00mepoch\u001b[38;5;132;01m}\u001b[39;00m\u001b[33m\"\u001b[39m, leave=\u001b[38;5;28;01mFalse\u001b[39;00m)\n\u001b[32m----> \u001b[39m\u001b[32m9\u001b[39m \u001b[43m\u001b[49m\u001b[38;5;28;43;01mfor\u001b[39;49;00m\u001b[43m \u001b[49m\u001b[43mx\u001b[49m\u001b[43m,\u001b[49m\u001b[43m \u001b[49m\u001b[43my\u001b[49m\u001b[43m,\u001b[49m\u001b[43m \u001b[49m\u001b[43mb\u001b[49m\u001b[43m,\u001b[49m\u001b[43m \u001b[49m\u001b[43mxp\u001b[49m\u001b[43m,\u001b[49m\u001b[43m \u001b[49m\u001b[43mx_ctrl_match\u001b[49m\u001b[43m \u001b[49m\u001b[38;5;129;43;01min\u001b[39;49;00m\u001b[43m \u001b[49m\u001b[43mpbar\u001b[49m\u001b[43m:\u001b[49m\n\u001b[32m     10\u001b[39m \u001b[43m    \u001b[49m\u001b[43mx\u001b[49m\u001b[43m,\u001b[49m\u001b[43m \u001b[49m\u001b[43my\u001b[49m\u001b[43m,\u001b[49m\u001b[43m \u001b[49m\u001b[43mxp\u001b[49m\u001b[43m,\u001b[49m\u001b[43m \u001b[49m\u001b[43mx_ctrl_match\u001b[49m\u001b[43m \u001b[49m\u001b[43m=\u001b[49m\u001b[43m \u001b[49m\u001b[43mx\u001b[49m\u001b[43m.\u001b[49m\u001b[43mto\u001b[49m\u001b[43m(\u001b[49m\u001b[43mdevice\u001b[49m\u001b[43m)\u001b[49m\u001b[43m,\u001b[49m\u001b[43m \u001b[49m\u001b[43my\u001b[49m\u001b[43m.\u001b[49m\u001b[43mto\u001b[49m\u001b[43m(\u001b[49m\u001b[43mdevice\u001b[49m\u001b[43m)\u001b[49m\u001b[43m,\u001b[49m\u001b[43m \u001b[49m\u001b[43mxp\u001b[49m\u001b[43m.\u001b[49m\u001b[43mto\u001b[49m\u001b[43m(\u001b[49m\u001b[43mdevice\u001b[49m\u001b[43m)\u001b[49m\u001b[43m,\u001b[49m\u001b[43m \u001b[49m\u001b[43mx_ctrl_match\u001b[49m\u001b[43m.\u001b[49m\u001b[43mto\u001b[49m\u001b[43m(\u001b[49m\u001b[43mdevice\u001b[49m\u001b[43m)\u001b[49m\n\u001b[32m     12\u001b[39m \u001b[43m    \u001b[49m\u001b[43mx_ctrl_pred\u001b[49m\u001b[43m,\u001b[49m\u001b[43m \u001b[49m\u001b[43mdelta_pred\u001b[49m\u001b[43m,\u001b[49m\u001b[43m \u001b[49m\u001b[43mx_pred\u001b[49m\u001b[43m \u001b[49m\u001b[43m=\u001b[49m\u001b[43m \u001b[49m\u001b[43mmodel\u001b[49m\u001b[43m(\u001b[49m\u001b[43my\u001b[49m\u001b[43m,\u001b[49m\u001b[43m \u001b[49m\u001b[43mxp\u001b[49m\u001b[43m)\u001b[49m\n",
      "\u001b[36mFile \u001b[39m\u001b[32m~/miniconda3/envs/python312/lib/python3.12/site-packages/tqdm/std.py:1181\u001b[39m, in \u001b[36mtqdm.__iter__\u001b[39m\u001b[34m(self)\u001b[39m\n\u001b[32m   1178\u001b[39m time = \u001b[38;5;28mself\u001b[39m._time\n\u001b[32m   1180\u001b[39m \u001b[38;5;28;01mtry\u001b[39;00m:\n\u001b[32m-> \u001b[39m\u001b[32m1181\u001b[39m \u001b[43m    \u001b[49m\u001b[38;5;28;43;01mfor\u001b[39;49;00m\u001b[43m \u001b[49m\u001b[43mobj\u001b[49m\u001b[43m \u001b[49m\u001b[38;5;129;43;01min\u001b[39;49;00m\u001b[43m \u001b[49m\u001b[43miterable\u001b[49m\u001b[43m:\u001b[49m\n\u001b[32m   1182\u001b[39m \u001b[43m        \u001b[49m\u001b[38;5;28;43;01myield\u001b[39;49;00m\u001b[43m \u001b[49m\u001b[43mobj\u001b[49m\n\u001b[32m   1183\u001b[39m \u001b[43m        \u001b[49m\u001b[38;5;66;43;03m# Update and possibly print the progressbar.\u001b[39;49;00m\n\u001b[32m   1184\u001b[39m \u001b[43m        \u001b[49m\u001b[38;5;66;43;03m# Note: does not call self.update(1) for speed optimisation.\u001b[39;49;00m\n",
      "\u001b[36mFile \u001b[39m\u001b[32m~/miniconda3/envs/python312/lib/python3.12/site-packages/torch/utils/data/dataloader.py:734\u001b[39m, in \u001b[36m_BaseDataLoaderIter.__next__\u001b[39m\u001b[34m(self)\u001b[39m\n\u001b[32m    731\u001b[39m \u001b[38;5;28;01mif\u001b[39;00m \u001b[38;5;28mself\u001b[39m._sampler_iter \u001b[38;5;129;01mis\u001b[39;00m \u001b[38;5;28;01mNone\u001b[39;00m:\n\u001b[32m    732\u001b[39m     \u001b[38;5;66;03m# TODO(https://github.com/pytorch/pytorch/issues/76750)\u001b[39;00m\n\u001b[32m    733\u001b[39m     \u001b[38;5;28mself\u001b[39m._reset()  \u001b[38;5;66;03m# type: ignore[call-arg]\u001b[39;00m\n\u001b[32m--> \u001b[39m\u001b[32m734\u001b[39m data = \u001b[38;5;28;43mself\u001b[39;49m\u001b[43m.\u001b[49m\u001b[43m_next_data\u001b[49m\u001b[43m(\u001b[49m\u001b[43m)\u001b[49m\n\u001b[32m    735\u001b[39m \u001b[38;5;28mself\u001b[39m._num_yielded += \u001b[32m1\u001b[39m\n\u001b[32m    736\u001b[39m \u001b[38;5;28;01mif\u001b[39;00m (\n\u001b[32m    737\u001b[39m     \u001b[38;5;28mself\u001b[39m._dataset_kind == _DatasetKind.Iterable\n\u001b[32m    738\u001b[39m     \u001b[38;5;129;01mand\u001b[39;00m \u001b[38;5;28mself\u001b[39m._IterableDataset_len_called \u001b[38;5;129;01mis\u001b[39;00m \u001b[38;5;129;01mnot\u001b[39;00m \u001b[38;5;28;01mNone\u001b[39;00m\n\u001b[32m    739\u001b[39m     \u001b[38;5;129;01mand\u001b[39;00m \u001b[38;5;28mself\u001b[39m._num_yielded > \u001b[38;5;28mself\u001b[39m._IterableDataset_len_called\n\u001b[32m    740\u001b[39m ):\n",
      "\u001b[36mFile \u001b[39m\u001b[32m~/miniconda3/envs/python312/lib/python3.12/site-packages/torch/utils/data/dataloader.py:1492\u001b[39m, in \u001b[36m_MultiProcessingDataLoaderIter._next_data\u001b[39m\u001b[34m(self)\u001b[39m\n\u001b[32m   1489\u001b[39m     \u001b[38;5;28;01mreturn\u001b[39;00m \u001b[38;5;28mself\u001b[39m._process_data(data, worker_id)\n\u001b[32m   1491\u001b[39m \u001b[38;5;28;01massert\u001b[39;00m \u001b[38;5;129;01mnot\u001b[39;00m \u001b[38;5;28mself\u001b[39m._shutdown \u001b[38;5;129;01mand\u001b[39;00m \u001b[38;5;28mself\u001b[39m._tasks_outstanding > \u001b[32m0\u001b[39m\n\u001b[32m-> \u001b[39m\u001b[32m1492\u001b[39m idx, data = \u001b[38;5;28;43mself\u001b[39;49m\u001b[43m.\u001b[49m\u001b[43m_get_data\u001b[49m\u001b[43m(\u001b[49m\u001b[43m)\u001b[49m\n\u001b[32m   1493\u001b[39m \u001b[38;5;28mself\u001b[39m._tasks_outstanding -= \u001b[32m1\u001b[39m\n\u001b[32m   1494\u001b[39m \u001b[38;5;28;01mif\u001b[39;00m \u001b[38;5;28mself\u001b[39m._dataset_kind == _DatasetKind.Iterable:\n\u001b[32m   1495\u001b[39m     \u001b[38;5;66;03m# Check for _IterableDatasetStopIteration\u001b[39;00m\n",
      "\u001b[36mFile \u001b[39m\u001b[32m~/miniconda3/envs/python312/lib/python3.12/site-packages/torch/utils/data/dataloader.py:1444\u001b[39m, in \u001b[36m_MultiProcessingDataLoaderIter._get_data\u001b[39m\u001b[34m(self)\u001b[39m\n\u001b[32m   1442\u001b[39m \u001b[38;5;28;01melif\u001b[39;00m \u001b[38;5;28mself\u001b[39m._pin_memory:\n\u001b[32m   1443\u001b[39m     \u001b[38;5;28;01mwhile\u001b[39;00m \u001b[38;5;28mself\u001b[39m._pin_memory_thread.is_alive():\n\u001b[32m-> \u001b[39m\u001b[32m1444\u001b[39m         success, data = \u001b[38;5;28;43mself\u001b[39;49m\u001b[43m.\u001b[49m\u001b[43m_try_get_data\u001b[49m\u001b[43m(\u001b[49m\u001b[43m)\u001b[49m\n\u001b[32m   1445\u001b[39m         \u001b[38;5;28;01mif\u001b[39;00m success:\n\u001b[32m   1446\u001b[39m             \u001b[38;5;28;01mreturn\u001b[39;00m data\n",
      "\u001b[36mFile \u001b[39m\u001b[32m~/miniconda3/envs/python312/lib/python3.12/site-packages/torch/utils/data/dataloader.py:1285\u001b[39m, in \u001b[36m_MultiProcessingDataLoaderIter._try_get_data\u001b[39m\u001b[34m(self, timeout)\u001b[39m\n\u001b[32m   1272\u001b[39m \u001b[38;5;28;01mdef\u001b[39;00m\u001b[38;5;250m \u001b[39m\u001b[34m_try_get_data\u001b[39m(\u001b[38;5;28mself\u001b[39m, timeout=_utils.MP_STATUS_CHECK_INTERVAL):\n\u001b[32m   1273\u001b[39m     \u001b[38;5;66;03m# Tries to fetch data from `self._data_queue` once for a given timeout.\u001b[39;00m\n\u001b[32m   1274\u001b[39m     \u001b[38;5;66;03m# This can also be used as inner loop of fetching without timeout, with\u001b[39;00m\n\u001b[32m   (...)\u001b[39m\u001b[32m   1282\u001b[39m     \u001b[38;5;66;03m# Returns a 2-tuple:\u001b[39;00m\n\u001b[32m   1283\u001b[39m     \u001b[38;5;66;03m#   (bool: whether successfully get data, any: data if successful else None)\u001b[39;00m\n\u001b[32m   1284\u001b[39m     \u001b[38;5;28;01mtry\u001b[39;00m:\n\u001b[32m-> \u001b[39m\u001b[32m1285\u001b[39m         data = \u001b[38;5;28;43mself\u001b[39;49m\u001b[43m.\u001b[49m\u001b[43m_data_queue\u001b[49m\u001b[43m.\u001b[49m\u001b[43mget\u001b[49m\u001b[43m(\u001b[49m\u001b[43mtimeout\u001b[49m\u001b[43m=\u001b[49m\u001b[43mtimeout\u001b[49m\u001b[43m)\u001b[49m\n\u001b[32m   1286\u001b[39m         \u001b[38;5;28;01mreturn\u001b[39;00m (\u001b[38;5;28;01mTrue\u001b[39;00m, data)\n\u001b[32m   1287\u001b[39m     \u001b[38;5;28;01mexcept\u001b[39;00m \u001b[38;5;167;01mException\u001b[39;00m \u001b[38;5;28;01mas\u001b[39;00m e:\n\u001b[32m   1288\u001b[39m         \u001b[38;5;66;03m# At timeout and error, we manually check whether any worker has\u001b[39;00m\n\u001b[32m   1289\u001b[39m         \u001b[38;5;66;03m# failed. Note that this is the only mechanism for Windows to detect\u001b[39;00m\n\u001b[32m   1290\u001b[39m         \u001b[38;5;66;03m# worker failures.\u001b[39;00m\n",
      "\u001b[36mFile \u001b[39m\u001b[32m~/miniconda3/envs/python312/lib/python3.12/queue.py:180\u001b[39m, in \u001b[36mQueue.get\u001b[39m\u001b[34m(self, block, timeout)\u001b[39m\n\u001b[32m    178\u001b[39m         \u001b[38;5;28;01mif\u001b[39;00m remaining <= \u001b[32m0.0\u001b[39m:\n\u001b[32m    179\u001b[39m             \u001b[38;5;28;01mraise\u001b[39;00m Empty\n\u001b[32m--> \u001b[39m\u001b[32m180\u001b[39m         \u001b[38;5;28;43mself\u001b[39;49m\u001b[43m.\u001b[49m\u001b[43mnot_empty\u001b[49m\u001b[43m.\u001b[49m\u001b[43mwait\u001b[49m\u001b[43m(\u001b[49m\u001b[43mremaining\u001b[49m\u001b[43m)\u001b[49m\n\u001b[32m    181\u001b[39m item = \u001b[38;5;28mself\u001b[39m._get()\n\u001b[32m    182\u001b[39m \u001b[38;5;28mself\u001b[39m.not_full.notify()\n",
      "\u001b[36mFile \u001b[39m\u001b[32m~/miniconda3/envs/python312/lib/python3.12/threading.py:359\u001b[39m, in \u001b[36mCondition.wait\u001b[39m\u001b[34m(self, timeout)\u001b[39m\n\u001b[32m    357\u001b[39m \u001b[38;5;28;01melse\u001b[39;00m:\n\u001b[32m    358\u001b[39m     \u001b[38;5;28;01mif\u001b[39;00m timeout > \u001b[32m0\u001b[39m:\n\u001b[32m--> \u001b[39m\u001b[32m359\u001b[39m         gotit = \u001b[43mwaiter\u001b[49m\u001b[43m.\u001b[49m\u001b[43macquire\u001b[49m\u001b[43m(\u001b[49m\u001b[38;5;28;43;01mTrue\u001b[39;49;00m\u001b[43m,\u001b[49m\u001b[43m \u001b[49m\u001b[43mtimeout\u001b[49m\u001b[43m)\u001b[49m\n\u001b[32m    360\u001b[39m     \u001b[38;5;28;01melse\u001b[39;00m:\n\u001b[32m    361\u001b[39m         gotit = waiter.acquire(\u001b[38;5;28;01mFalse\u001b[39;00m)\n",
      "\u001b[31mKeyboardInterrupt\u001b[39m: "
     ]
    },
    {
     "name": "stderr",
     "output_type": "stream",
     "text": [
      "    return _ForkingPickler.loads(res)\n",
      "           ^^^^^^^^^^^^^^^^^^^^^^^^^^\n",
      "  File \"/home/tphan/miniconda3/envs/python312/lib/python3.12/site-packages/torch/multiprocessing/reductions.py\", line 541, in rebuild_storage_fd\n",
      "    fd = df.detach()\n",
      "         ^^^^^^^^^^^\n",
      "  File \"/home/tphan/miniconda3/envs/python312/lib/python3.12/multiprocessing/resource_sharer.py\", line 57, in detach\n",
      "    with _resource_sharer.get_connection(self._id) as conn:\n",
      "         ^^^^^^^^^^^^^^^^^^^^^^^^^^^^^^^^^^^^^^^^^\n",
      "  File \"/home/tphan/miniconda3/envs/python312/lib/python3.12/multiprocessing/resource_sharer.py\", line 86, in get_connection\n",
      "    c = Client(address, authkey=process.current_process().authkey)\n",
      "        ^^^^^^^^^^^^^^^^^^^^^^^^^^^^^^^^^^^^^^^^^^^^^^^^^^^^^^^^^^\n",
      "  File \"/home/tphan/miniconda3/envs/python312/lib/python3.12/multiprocessing/connection.py\", line 519, in Client\n",
      "    c = SocketClient(address)\n",
      "        ^^^^^^^^^^^^^^^^^^^^^\n",
      "  File \"/home/tphan/miniconda3/envs/python312/lib/python3.12/multiprocessing/connection.py\", line 647, in SocketClient\n",
      "    s.connect(address)\n",
      "FileNotFoundError: [Errno 2] No such file or directory\n"
     ]
    }
   ],
   "source": [
    "import os\n",
    "import torch\n",
    "\n",
    "G = 18080           # genes\n",
    "n_cell_lines = 5\n",
    "n_targets = 373   # genes + control\n",
    "\n",
    "device = \"cuda\" if torch.cuda.is_available() else \"cpu\"\n",
    "start_epoch = 10\n",
    "max_epoch = 200\n",
    "last_ck = f\"epoch={start_epoch}.pt\"\n",
    "\n",
    "model = BaselinePerturbModel(G, n_cell_lines, len(ds.perturbs_vocab)).to(device)\n",
    "optimizer = optim.AdamW(model.parameters(), lr=1e-3, weight_decay=1e-4)\n",
    "\n",
    "if os.path.exists(last_ck):\n",
    "    ckpt = torch.load(last_ck, map_location=device)\n",
    "    model.load_state_dict(ckpt[\"model_state\"])\n",
    "    optimizer.load_state_dict(ckpt[\"optimizer_state\"])\n",
    "else:\n",
    "    start_epoch = 0\n",
    "    \n",
    "    \n",
    "wandb.watch(model, log=\"all\")\n",
    "\n",
    "for epoch in range(start_epoch, max_epoch + 1):\n",
    "    loss = train_baseline_epoch(model, dataloader, optimizer, device)\n",
    "    wandb.log({\"train/loss\": loss, \"epoch\": epoch})\n",
    "    if not epoch % 5:\n",
    "        save_checkpoint(model, optimizer, epoch, \"baseline-delta\")\n"
   ]
  },
  {
   "cell_type": "code",
   "execution_count": null,
   "id": "9f9e3c31-46f2-42e1-96ea-3f6e6abb0639",
   "metadata": {},
   "outputs": [],
   "source": [
    "ds._get_file_idx(228314)"
   ]
  },
  {
   "cell_type": "markdown",
   "id": "2574df41-fb11-4981-8fd8-21e48c0e1d59",
   "metadata": {},
   "source": [
    "# Inference"
   ]
  },
  {
   "cell_type": "code",
   "execution_count": 19,
   "id": "bff16d7d-f0a0-4719-9b3b-a9e350cc9c60",
   "metadata": {},
   "outputs": [
    {
     "data": {
      "text/plain": [
       "<All keys matched successfully>"
      ]
     },
     "execution_count": 19,
     "metadata": {},
     "output_type": "execute_result"
    }
   ],
   "source": [
    "ckpt = torch.load(\"baseline-delta/epoch=75.pt\", map_location=device)\n",
    "model = BaselinePerturbModel(G, n_cell_lines, n_targets).to(device)\n",
    "model.load_state_dict(ckpt[\"model_state\"])"
   ]
  },
  {
   "cell_type": "code",
   "execution_count": 20,
   "id": "3abd1a42-b369-4e78-a3b0-7f53a4f814a5",
   "metadata": {},
   "outputs": [
    {
     "name": "stdout",
     "output_type": "stream",
     "text": [
      "Pred control: torch.Size([1, 18080])\n",
      "Pred perturbed: torch.Size([1, 18080])\n"
     ]
    }
   ],
   "source": [
    "y_test = torch.tensor([3], device=device)\n",
    "xp_test = torch.tensor([123], device=device)  # gene 123\n",
    "x_ctrl, delta, x_pred = model(y_test, xp_test)\n",
    "\n",
    "print(\"Pred control:\", x_ctrl.shape)  # [1, G]\n",
    "print(\"Pred perturbed:\", x_pred.shape)  # [1, G]"
   ]
  },
  {
   "cell_type": "code",
   "execution_count": 21,
   "id": "6681647a-8c5e-45c3-aaf8-642d85de52d8",
   "metadata": {},
   "outputs": [
    {
     "data": {
      "text/plain": [
       "tensor([[-5.9167e-04,  5.3036e-01,  2.5000e-02,  ...,  3.4181e+00,\n",
       "          1.9216e+00,  5.0787e+00]], device='cuda:0', grad_fn=<AddBackward0>)"
      ]
     },
     "execution_count": 21,
     "metadata": {},
     "output_type": "execute_result"
    }
   ],
   "source": [
    "x_pred"
   ]
  },
  {
   "cell_type": "code",
   "execution_count": 27,
   "id": "e6a862cc-49ce-45d4-ad49-a8bb6b182a37",
   "metadata": {},
   "outputs": [
    {
     "data": {
      "text/plain": [
       "array([[-5.9167179e-04,  5.3035599e-01,  2.5000028e-02, ...,\n",
       "         3.4181166e+00,  1.9216139e+00,  5.0787258e+00]],\n",
       "      shape=(1, 18080), dtype=float32)"
      ]
     },
     "execution_count": 27,
     "metadata": {},
     "output_type": "execute_result"
    }
   ],
   "source": [
    "x_pred.detach().cpu().numpy()"
   ]
  },
  {
   "cell_type": "code",
   "execution_count": 28,
   "id": "1f90995d-24fc-4c38-a753-60197e711401",
   "metadata": {},
   "outputs": [
    {
     "data": {
      "text/plain": [
       "array(['ARC_H1', 'hepg2', 'jurkat', 'k562', 'rpe1'], dtype='<U6')"
      ]
     },
     "execution_count": 28,
     "metadata": {},
     "output_type": "execute_result"
    }
   ],
   "source": [
    "ds.cell_types"
   ]
  },
  {
   "cell_type": "code",
   "execution_count": 6,
   "id": "7d1414cd-e74c-450f-9a90-4b145b2415c5",
   "metadata": {},
   "outputs": [
    {
     "data": {
      "text/html": [
       "<div>\n",
       "<style scoped>\n",
       "    .dataframe tbody tr th:only-of-type {\n",
       "        vertical-align: middle;\n",
       "    }\n",
       "\n",
       "    .dataframe tbody tr th {\n",
       "        vertical-align: top;\n",
       "    }\n",
       "\n",
       "    .dataframe thead th {\n",
       "        text-align: right;\n",
       "    }\n",
       "</style>\n",
       "<table border=\"1\" class=\"dataframe\">\n",
       "  <thead>\n",
       "    <tr style=\"text-align: right;\">\n",
       "      <th></th>\n",
       "      <th>gem_group</th>\n",
       "      <th>gene</th>\n",
       "      <th>gene_id</th>\n",
       "      <th>transcript</th>\n",
       "      <th>gene_transcript</th>\n",
       "      <th>sgID_AB</th>\n",
       "      <th>mitopercent</th>\n",
       "      <th>UMI_count</th>\n",
       "      <th>z_gemgroup_UMI</th>\n",
       "      <th>core_scale_factor</th>\n",
       "      <th>core_adjusted_UMI_count</th>\n",
       "      <th>batch_var</th>\n",
       "      <th>target_gene</th>\n",
       "      <th>cell_type</th>\n",
       "    </tr>\n",
       "    <tr>\n",
       "      <th>cell_barcode</th>\n",
       "      <th></th>\n",
       "      <th></th>\n",
       "      <th></th>\n",
       "      <th></th>\n",
       "      <th></th>\n",
       "      <th></th>\n",
       "      <th></th>\n",
       "      <th></th>\n",
       "      <th></th>\n",
       "      <th></th>\n",
       "      <th></th>\n",
       "      <th></th>\n",
       "      <th></th>\n",
       "      <th></th>\n",
       "    </tr>\n",
       "  </thead>\n",
       "  <tbody>\n",
       "    <tr>\n",
       "      <th>AAACCCAAGAGAGAAC-35</th>\n",
       "      <td>35</td>\n",
       "      <td>non-targeting</td>\n",
       "      <td>non-targeting</td>\n",
       "      <td>non-targeting</td>\n",
       "      <td>11209_non-targeting_non-targeting_non-targeting</td>\n",
       "      <td>non-targeting_02989|non-targeting_02406</td>\n",
       "      <td>0.056552</td>\n",
       "      <td>8753.0</td>\n",
       "      <td>0.368225</td>\n",
       "      <td>0.600710</td>\n",
       "      <td>14571.081055</td>\n",
       "      <td>rpe135</td>\n",
       "      <td>non-targeting</td>\n",
       "      <td>rpe1</td>\n",
       "    </tr>\n",
       "    <tr>\n",
       "      <th>AAACCCAAGCGCACAA-2</th>\n",
       "      <td>2</td>\n",
       "      <td>TFAM</td>\n",
       "      <td>ENSG00000108064</td>\n",
       "      <td>P1P2</td>\n",
       "      <td>8832_TFAM_P1P2_ENSG00000108064</td>\n",
       "      <td>TFAM_+_60145205.23-P1P2|TFAM_-_60145223.23-P1P2</td>\n",
       "      <td>0.022038</td>\n",
       "      <td>11934.0</td>\n",
       "      <td>0.083506</td>\n",
       "      <td>0.936004</td>\n",
       "      <td>12749.941406</td>\n",
       "      <td>rpe12</td>\n",
       "      <td>TFAM</td>\n",
       "      <td>rpe1</td>\n",
       "    </tr>\n",
       "    <tr>\n",
       "      <th>AAACCCAAGCGGACAT-34</th>\n",
       "      <td>34</td>\n",
       "      <td>non-targeting</td>\n",
       "      <td>non-targeting</td>\n",
       "      <td>non-targeting</td>\n",
       "      <td>11238_non-targeting_non-targeting_non-targeting</td>\n",
       "      <td>non-targeting_03171|non-targeting_03032</td>\n",
       "      <td>0.058144</td>\n",
       "      <td>12469.0</td>\n",
       "      <td>0.970058</td>\n",
       "      <td>0.709628</td>\n",
       "      <td>17571.187500</td>\n",
       "      <td>rpe134</td>\n",
       "      <td>non-targeting</td>\n",
       "      <td>rpe1</td>\n",
       "    </tr>\n",
       "    <tr>\n",
       "      <th>AAACCCAAGCTCGACC-34</th>\n",
       "      <td>34</td>\n",
       "      <td>TAZ</td>\n",
       "      <td>ENSG00000102125</td>\n",
       "      <td>P1P2</td>\n",
       "      <td>8703_TAZ_P1P2_ENSG00000102125</td>\n",
       "      <td>TAZ_-_153640125.23-P1P2|TAZ_+_153639918.23-P1P2</td>\n",
       "      <td>0.053064</td>\n",
       "      <td>16075.0</td>\n",
       "      <td>1.957035</td>\n",
       "      <td>0.709628</td>\n",
       "      <td>22652.726562</td>\n",
       "      <td>rpe134</td>\n",
       "      <td>TAZ</td>\n",
       "      <td>rpe1</td>\n",
       "    </tr>\n",
       "    <tr>\n",
       "      <th>AAACCCAAGTGCACCC-42</th>\n",
       "      <td>42</td>\n",
       "      <td>non-targeting</td>\n",
       "      <td>non-targeting</td>\n",
       "      <td>non-targeting</td>\n",
       "      <td>10829_non-targeting_non-targeting_non-targeting</td>\n",
       "      <td>non-targeting_00483|non-targeting_03391</td>\n",
       "      <td>0.058406</td>\n",
       "      <td>12961.0</td>\n",
       "      <td>1.024948</td>\n",
       "      <td>0.725025</td>\n",
       "      <td>17876.626953</td>\n",
       "      <td>rpe142</td>\n",
       "      <td>non-targeting</td>\n",
       "      <td>rpe1</td>\n",
       "    </tr>\n",
       "    <tr>\n",
       "      <th>...</th>\n",
       "      <td>...</td>\n",
       "      <td>...</td>\n",
       "      <td>...</td>\n",
       "      <td>...</td>\n",
       "      <td>...</td>\n",
       "      <td>...</td>\n",
       "      <td>...</td>\n",
       "      <td>...</td>\n",
       "      <td>...</td>\n",
       "      <td>...</td>\n",
       "      <td>...</td>\n",
       "      <td>...</td>\n",
       "      <td>...</td>\n",
       "      <td>...</td>\n",
       "    </tr>\n",
       "    <tr>\n",
       "      <th>TTTGTTGTCCATCTCG-35</th>\n",
       "      <td>35</td>\n",
       "      <td>non-targeting</td>\n",
       "      <td>non-targeting</td>\n",
       "      <td>non-targeting</td>\n",
       "      <td>11025_non-targeting_non-targeting_non-targeting</td>\n",
       "      <td>non-targeting_01813|non-targeting_00122</td>\n",
       "      <td>0.008165</td>\n",
       "      <td>2327.0</td>\n",
       "      <td>-1.579949</td>\n",
       "      <td>0.600710</td>\n",
       "      <td>3873.746826</td>\n",
       "      <td>rpe135</td>\n",
       "      <td>non-targeting</td>\n",
       "      <td>rpe1</td>\n",
       "    </tr>\n",
       "    <tr>\n",
       "      <th>TTTGTTGTCGGCTCTT-36</th>\n",
       "      <td>36</td>\n",
       "      <td>non-targeting</td>\n",
       "      <td>non-targeting</td>\n",
       "      <td>non-targeting</td>\n",
       "      <td>11208_non-targeting_non-targeting_non-targeting</td>\n",
       "      <td>non-targeting_02977|non-targeting_01146</td>\n",
       "      <td>0.061335</td>\n",
       "      <td>11853.0</td>\n",
       "      <td>1.030208</td>\n",
       "      <td>0.644705</td>\n",
       "      <td>18385.166016</td>\n",
       "      <td>rpe136</td>\n",
       "      <td>non-targeting</td>\n",
       "      <td>rpe1</td>\n",
       "    </tr>\n",
       "    <tr>\n",
       "      <th>TTTGTTGTCTGCACCT-44</th>\n",
       "      <td>44</td>\n",
       "      <td>MAX</td>\n",
       "      <td>ENSG00000125952</td>\n",
       "      <td>P1P2</td>\n",
       "      <td>4871_MAX_P1P2_ENSG00000125952</td>\n",
       "      <td>MAX_+_65569008.23-P1P2|MAX_-_65568906.23-P1P2</td>\n",
       "      <td>0.079629</td>\n",
       "      <td>22228.0</td>\n",
       "      <td>0.767826</td>\n",
       "      <td>1.321505</td>\n",
       "      <td>16820.220703</td>\n",
       "      <td>rpe144</td>\n",
       "      <td>MAX</td>\n",
       "      <td>rpe1</td>\n",
       "    </tr>\n",
       "    <tr>\n",
       "      <th>TTTGTTGTCTGGGCAC-32</th>\n",
       "      <td>32</td>\n",
       "      <td>ATP6V0C</td>\n",
       "      <td>ENSG00000185883</td>\n",
       "      <td>P1P2</td>\n",
       "      <td>675_ATP6V0C_P1P2_ENSG00000185883</td>\n",
       "      <td>ATP6V0C_+_2564168.23-P1P2|ATP6V0C_-_2563995.23...</td>\n",
       "      <td>0.049527</td>\n",
       "      <td>12377.0</td>\n",
       "      <td>-0.004215</td>\n",
       "      <td>0.989524</td>\n",
       "      <td>12508.036133</td>\n",
       "      <td>rpe132</td>\n",
       "      <td>ATP6V0C</td>\n",
       "      <td>rpe1</td>\n",
       "    </tr>\n",
       "    <tr>\n",
       "      <th>TTTGTTGTCTTTCCGG-22</th>\n",
       "      <td>22</td>\n",
       "      <td>non-targeting</td>\n",
       "      <td>non-targeting</td>\n",
       "      <td>non-targeting</td>\n",
       "      <td>11270_non-targeting_non-targeting_non-targeting</td>\n",
       "      <td>non-targeting_03462|non-targeting_00434</td>\n",
       "      <td>0.048590</td>\n",
       "      <td>18296.0</td>\n",
       "      <td>1.378922</td>\n",
       "      <td>1.007874</td>\n",
       "      <td>18153.058594</td>\n",
       "      <td>rpe122</td>\n",
       "      <td>non-targeting</td>\n",
       "      <td>rpe1</td>\n",
       "    </tr>\n",
       "  </tbody>\n",
       "</table>\n",
       "<p>22317 rows × 14 columns</p>\n",
       "</div>"
      ],
      "text/plain": [
       "                     gem_group           gene          gene_id     transcript  \\\n",
       "cell_barcode                                                                    \n",
       "AAACCCAAGAGAGAAC-35         35  non-targeting    non-targeting  non-targeting   \n",
       "AAACCCAAGCGCACAA-2           2           TFAM  ENSG00000108064           P1P2   \n",
       "AAACCCAAGCGGACAT-34         34  non-targeting    non-targeting  non-targeting   \n",
       "AAACCCAAGCTCGACC-34         34            TAZ  ENSG00000102125           P1P2   \n",
       "AAACCCAAGTGCACCC-42         42  non-targeting    non-targeting  non-targeting   \n",
       "...                        ...            ...              ...            ...   \n",
       "TTTGTTGTCCATCTCG-35         35  non-targeting    non-targeting  non-targeting   \n",
       "TTTGTTGTCGGCTCTT-36         36  non-targeting    non-targeting  non-targeting   \n",
       "TTTGTTGTCTGCACCT-44         44            MAX  ENSG00000125952           P1P2   \n",
       "TTTGTTGTCTGGGCAC-32         32        ATP6V0C  ENSG00000185883           P1P2   \n",
       "TTTGTTGTCTTTCCGG-22         22  non-targeting    non-targeting  non-targeting   \n",
       "\n",
       "                                                     gene_transcript  \\\n",
       "cell_barcode                                                           \n",
       "AAACCCAAGAGAGAAC-35  11209_non-targeting_non-targeting_non-targeting   \n",
       "AAACCCAAGCGCACAA-2                    8832_TFAM_P1P2_ENSG00000108064   \n",
       "AAACCCAAGCGGACAT-34  11238_non-targeting_non-targeting_non-targeting   \n",
       "AAACCCAAGCTCGACC-34                    8703_TAZ_P1P2_ENSG00000102125   \n",
       "AAACCCAAGTGCACCC-42  10829_non-targeting_non-targeting_non-targeting   \n",
       "...                                                              ...   \n",
       "TTTGTTGTCCATCTCG-35  11025_non-targeting_non-targeting_non-targeting   \n",
       "TTTGTTGTCGGCTCTT-36  11208_non-targeting_non-targeting_non-targeting   \n",
       "TTTGTTGTCTGCACCT-44                    4871_MAX_P1P2_ENSG00000125952   \n",
       "TTTGTTGTCTGGGCAC-32                 675_ATP6V0C_P1P2_ENSG00000185883   \n",
       "TTTGTTGTCTTTCCGG-22  11270_non-targeting_non-targeting_non-targeting   \n",
       "\n",
       "                                                               sgID_AB  \\\n",
       "cell_barcode                                                             \n",
       "AAACCCAAGAGAGAAC-35            non-targeting_02989|non-targeting_02406   \n",
       "AAACCCAAGCGCACAA-2     TFAM_+_60145205.23-P1P2|TFAM_-_60145223.23-P1P2   \n",
       "AAACCCAAGCGGACAT-34            non-targeting_03171|non-targeting_03032   \n",
       "AAACCCAAGCTCGACC-34    TAZ_-_153640125.23-P1P2|TAZ_+_153639918.23-P1P2   \n",
       "AAACCCAAGTGCACCC-42            non-targeting_00483|non-targeting_03391   \n",
       "...                                                                ...   \n",
       "TTTGTTGTCCATCTCG-35            non-targeting_01813|non-targeting_00122   \n",
       "TTTGTTGTCGGCTCTT-36            non-targeting_02977|non-targeting_01146   \n",
       "TTTGTTGTCTGCACCT-44      MAX_+_65569008.23-P1P2|MAX_-_65568906.23-P1P2   \n",
       "TTTGTTGTCTGGGCAC-32  ATP6V0C_+_2564168.23-P1P2|ATP6V0C_-_2563995.23...   \n",
       "TTTGTTGTCTTTCCGG-22            non-targeting_03462|non-targeting_00434   \n",
       "\n",
       "                     mitopercent  UMI_count  z_gemgroup_UMI  \\\n",
       "cell_barcode                                                  \n",
       "AAACCCAAGAGAGAAC-35     0.056552     8753.0        0.368225   \n",
       "AAACCCAAGCGCACAA-2      0.022038    11934.0        0.083506   \n",
       "AAACCCAAGCGGACAT-34     0.058144    12469.0        0.970058   \n",
       "AAACCCAAGCTCGACC-34     0.053064    16075.0        1.957035   \n",
       "AAACCCAAGTGCACCC-42     0.058406    12961.0        1.024948   \n",
       "...                          ...        ...             ...   \n",
       "TTTGTTGTCCATCTCG-35     0.008165     2327.0       -1.579949   \n",
       "TTTGTTGTCGGCTCTT-36     0.061335    11853.0        1.030208   \n",
       "TTTGTTGTCTGCACCT-44     0.079629    22228.0        0.767826   \n",
       "TTTGTTGTCTGGGCAC-32     0.049527    12377.0       -0.004215   \n",
       "TTTGTTGTCTTTCCGG-22     0.048590    18296.0        1.378922   \n",
       "\n",
       "                     core_scale_factor  core_adjusted_UMI_count batch_var  \\\n",
       "cell_barcode                                                                \n",
       "AAACCCAAGAGAGAAC-35           0.600710             14571.081055    rpe135   \n",
       "AAACCCAAGCGCACAA-2            0.936004             12749.941406     rpe12   \n",
       "AAACCCAAGCGGACAT-34           0.709628             17571.187500    rpe134   \n",
       "AAACCCAAGCTCGACC-34           0.709628             22652.726562    rpe134   \n",
       "AAACCCAAGTGCACCC-42           0.725025             17876.626953    rpe142   \n",
       "...                                ...                      ...       ...   \n",
       "TTTGTTGTCCATCTCG-35           0.600710              3873.746826    rpe135   \n",
       "TTTGTTGTCGGCTCTT-36           0.644705             18385.166016    rpe136   \n",
       "TTTGTTGTCTGCACCT-44           1.321505             16820.220703    rpe144   \n",
       "TTTGTTGTCTGGGCAC-32           0.989524             12508.036133    rpe132   \n",
       "TTTGTTGTCTTTCCGG-22           1.007874             18153.058594    rpe122   \n",
       "\n",
       "                       target_gene cell_type  \n",
       "cell_barcode                                  \n",
       "AAACCCAAGAGAGAAC-35  non-targeting      rpe1  \n",
       "AAACCCAAGCGCACAA-2            TFAM      rpe1  \n",
       "AAACCCAAGCGGACAT-34  non-targeting      rpe1  \n",
       "AAACCCAAGCTCGACC-34            TAZ      rpe1  \n",
       "AAACCCAAGTGCACCC-42  non-targeting      rpe1  \n",
       "...                            ...       ...  \n",
       "TTTGTTGTCCATCTCG-35  non-targeting      rpe1  \n",
       "TTTGTTGTCGGCTCTT-36  non-targeting      rpe1  \n",
       "TTTGTTGTCTGCACCT-44            MAX      rpe1  \n",
       "TTTGTTGTCTGGGCAC-32        ATP6V0C      rpe1  \n",
       "TTTGTTGTCTTTCCGG-22  non-targeting      rpe1  \n",
       "\n",
       "[22317 rows x 14 columns]"
      ]
     },
     "execution_count": 6,
     "metadata": {},
     "output_type": "execute_result"
    }
   ],
   "source": [
    "ds.sp_adatas[0].obs"
   ]
  },
  {
   "cell_type": "code",
   "execution_count": 7,
   "id": "42db5b08-d6f6-4e70-a6b0-0e5da89b5353",
   "metadata": {},
   "outputs": [],
   "source": [
    "ds.perturbs.sort()"
   ]
  },
  {
   "cell_type": "code",
   "execution_count": 8,
   "id": "93a3e647-6979-4f72-8ffd-b546e16f948e",
   "metadata": {},
   "outputs": [
    {
     "data": {
      "text/plain": [
       "array(['ACAT2', 'ACAT2_P1P2_A|ACAT2_P1P2_B', 'ACLY', 'ACVR1B',\n",
       "       'ACVR1B_P1P2_A|ACVR1B_P1P2_B', 'AKT2', 'AKT2_P1P2_A|AKT2_P1P2_B',\n",
       "       'ANTXR1_P1P2_A|ANTXR1_P1P2_B', 'ANXA6', 'ARID1A',\n",
       "       'ARID1A_P1P2_A|ARID1A_P1P2_B', 'ARPC2', 'ATM',\n",
       "       'ATM_P1P2_A|ATM_P1P2_B', 'ATP1B1_P1P2_A|ATP1B1_P1P2_B', 'ATP6V0B',\n",
       "       'ATP6V0B_P1P2_A|ATP6V0B_P1P2_B', 'ATP6V0C',\n",
       "       'ATP6V0C_P1P2_A|ATP6V0C_P1P2_B', 'BIRC2',\n",
       "       'BIRC2_P1P2_A|BIRC2_P1P2_B', 'BRD9', 'BRD9_P1P2_A|BRD9_P1P2_B',\n",
       "       'C1QBP', 'C1QBP_P1P2_A|C1QBP_P1P2_B', 'CALM3',\n",
       "       'CALM3_ENST00000291295.9_A|CALM3_ENST00000291295.9_B',\n",
       "       'CAMSAP2_P1P2_A|CAMSAP2_P1P2_B', 'CASP2',\n",
       "       'CASP2_P1P2_A|CASP2_P1P2_B', 'CASP3', 'CASP3_P1P2_A|CASP3_P1P2_B',\n",
       "       'CAST', 'CAST_P1_A|CAST_P1_B', 'CAST_P2_A|CAST_P2_B', 'CDCA2',\n",
       "       'CDCA2_P1P2_A|CDCA2_P1P2_B', 'CENPB', 'CENPO',\n",
       "       'CENPO_P1P2_A|CENPO_P1P2_B', 'CHMP3', 'CHMP3_P1P2_A|CHMP3_P1P2_B',\n",
       "       'CLDN6', 'CLDN6_P1P2_A|CLDN6_P1P2_B', 'CLDN7',\n",
       "       'CLDN7_P1P2_A|CLDN7_P1P2_B', 'COX4I1', 'COX6C', 'CREG1',\n",
       "       'CREG1_P1P2_A|CREG1_P1P2_B', 'CSK', 'CTSV', 'DAXX',\n",
       "       'DAXX_P1_A|DAXX_P1_B', 'DAXX_P2_A|DAXX_P2_B', 'DHCR24',\n",
       "       'DHCR24_P1P2_A|DHCR24_P1P2_B', 'DHX36',\n",
       "       'DHX36_P1P2_A|DHX36_P1P2_B', 'DLG5', 'DLG5_P1P2_A|DLG5_P1P2_B',\n",
       "       'DNAJA3', 'DNAJA3_P1P2_A|DNAJA3_P1P2_B', 'DNMT1',\n",
       "       'DNMT1_P1P2_A|DNMT1_P1P2_B', 'DOT1L', 'DPH2',\n",
       "       'DZIP3_P1P2_A|DZIP3_P1P2_B', 'EHMT1', 'EID2',\n",
       "       'EID2_P1P2_A|EID2_P1P2_B', 'EIF3H', 'EIF4B',\n",
       "       'EIF4B_P1P2_A|EIF4B_P1P2_B', 'EPB41L2',\n",
       "       'EPB41L2_P1P2_A|EPB41L2_P1P2_B', 'EPHB4',\n",
       "       'EPHB4_P1P2_A|EPHB4_P1P2_B', 'ETV4', 'ETV4_P1P2_A|ETV4_P1P2_B',\n",
       "       'EWSR1', 'EWSR1_P1P2_A|EWSR1_P1P2_B', 'FDPS',\n",
       "       'FDPS_P1P2_A|FDPS_P1P2_B', 'FOXH1', 'FOXH1_P1P2_A|FOXH1_P1P2_B',\n",
       "       'FUBP1', 'GNG12', 'GSK3B', 'GSK3B_P1P2_A|GSK3B_P1P2_B', 'GSTZ1',\n",
       "       'HAT1', 'HAT1_P1P2_A|HAT1_P1P2_B', 'HDAC3', 'HDAC8', 'HIRA',\n",
       "       'HIRA_P1_A|HIRA_P1_B', 'HIRA_P2_A|HIRA_P2_B', 'HMGB2',\n",
       "       'HMGB2_P1P2_A|HMGB2_P1P2_B', 'HMGCR', 'HMGN1',\n",
       "       'HMGN1_P1P2_A|HMGN1_P1P2_B', 'HMGXB4', 'HSBP1',\n",
       "       'HSBP1_P1P2_A|HSBP1_P1P2_B', 'HTATSF1', 'IDE',\n",
       "       'IDE_P1P2_A|IDE_P1P2_B', 'IGF1R', 'IGF2R',\n",
       "       'IGF2R_P1P2_A|IGF2R_P1P2_B', 'IKBKG', 'IKBKG_P1P2_A|IKBKG_P1P2_B',\n",
       "       'INSIG1', 'INSIG1_P1P2_A|INSIG1_P1P2_B', 'IRF3',\n",
       "       'IRF3_P1P2_A|IRF3_P1P2_B', 'ITGAV', 'JAZF1', 'JMJD8', 'KAT2A',\n",
       "       'KAT2A_P1P2_A|KAT2A_P1P2_B', 'KDM1A', 'KDM1A_P1P2_A|KDM1A_P1P2_B',\n",
       "       'KDM2B', 'KDM2B_ENST00000377069.4_A|KDM2B_ENST00000377069.4_B',\n",
       "       'KDM2B_ENST00000377071.4_A|KDM2B_ENST00000377071.4_B',\n",
       "       'KDR_P1P2_A|KDR_P1P2_B', 'KIF1B', 'KIF1B_P1P2_A|KIF1B_P1P2_B',\n",
       "       'KIF20A', 'KIF20A_P1P2_A|KIF20A_P1P2_B', 'KLF10',\n",
       "       'KLF10_P1_A|KLF10_P1_B', 'KLF10_P2_A|KLF10_P2_B', 'KLHDC2',\n",
       "       'KRT18', 'LAD1_P1P2_A|LAD1_P1P2_B', 'LRPPRC',\n",
       "       'LRPPRC_P1P2_A|LRPPRC_P1P2_B', 'LZTR1',\n",
       "       'LZTR1_P1P2_A|LZTR1_P1P2_B', 'MAP1B', 'MAP1B_P1P2_A|MAP1B_P1P2_B',\n",
       "       'MAP3K7', 'MAP3K7_P1P2_A|MAP3K7_P1P2_B', 'MAPKAPK2',\n",
       "       'MAPKAPK2_P1P2_A|MAPKAPK2_P1P2_B', 'MAST2',\n",
       "       'MAST2_P1P2_A|MAST2_P1P2_B', 'MAT2A', 'MAU2',\n",
       "       'MAU2_P1P2_A|MAU2_P1P2_B', 'MAX', 'MBTPS1',\n",
       "       'MBTPS1_P1P2_A|MBTPS1_P1P2_B', 'MED1', 'MED12',\n",
       "       'MED12_P1P2_A|MED12_P1P2_B', 'MED13', 'MED13L',\n",
       "       'MED13L_P1P2_A|MED13L_P1P2_B', 'MED13_P1P2_A|MED13_P1P2_B',\n",
       "       'MED1_P1P2_A|MED1_P1P2_B', 'MED24', 'MED24_P1P2_A|MED24_P1P2_B',\n",
       "       'METTL14', 'METTL14_P1P2_A|METTL14_P1P2_B', 'METTL17',\n",
       "       'METTL17_P1P2_A|METTL17_P1P2_B', 'METTL3',\n",
       "       'METTL3_P1P2_A|METTL3_P1P2_B', 'MGST1', 'MKI67',\n",
       "       'MKI67_P1P2_A|MKI67_P1P2_B', 'MTA1', 'MTA1_P1P2_A|MTA1_P1P2_B',\n",
       "       'MTFR1', 'NCK2', 'NCK2_P1P2_A|NCK2_P1P2_B', 'NDUFB4',\n",
       "       'NDUFB4_P1P2_A|NDUFB4_P1P2_B', 'NDUFB6',\n",
       "       'NDUFB6_P1P2_A|NDUFB6_P1P2_B', 'NFE2L1', 'NISCH',\n",
       "       'NISCH_P1P2_A|NISCH_P1P2_B', 'NIT1', 'NIT1_P1P2_A|NIT1_P1P2_B',\n",
       "       'NRAS', 'NRAS_P1P2_A|NRAS_P1P2_B', 'NREP_P1P2_A|NREP_P1P2_B',\n",
       "       'OXA1L', 'OXA1L_P1P2_A|OXA1L_P1P2_B', 'OXCT1',\n",
       "       'OXCT1_P1P2_A|OXCT1_P1P2_B', 'PACSIN3', 'PAGR1',\n",
       "       'PAGR1_P1P2_A|PAGR1_P1P2_B', 'PAXIP1', 'PBX1',\n",
       "       'PBX1_P1P2_A|PBX1_P1P2_B', 'PHF10', 'PHF10_P1P2_A|PHF10_P1P2_B',\n",
       "       'PHF14', 'PHF14_P1P2_A|PHF14_P1P2_B', 'PLCB3',\n",
       "       'PLCB3_P1P2_A|PLCB3_P1P2_B', 'PMEL_P1P2_A|PMEL_P1P2_B', 'PMS1',\n",
       "       'PMS1_P1P2_A|PMS1_P1P2_B', 'POLB', 'POLB_P1P2_A|POLB_P1P2_B',\n",
       "       'PPP2R3C', 'PRCP', 'PRCP_P1_A|PRCP_P1_B', 'PRCP_P2_A|PRCP_P2_B',\n",
       "       'PRDM14', 'PRDM14_P1P2_A|PRDM14_P1P2_B', 'PRR12',\n",
       "       'PRR12_P1P2_A|PRR12_P1P2_B', 'PTPN1', 'PTPN1_P1P2_A|PTPN1_P1P2_B',\n",
       "       'RAB3B_P1P2_A|RAB3B_P1P2_B', 'RAF1', 'RAF1_P1P2_A|RAF1_P1P2_B',\n",
       "       'RNF2', 'RNF20', 'RNF20_P1P2_A|RNF20_P1P2_B',\n",
       "       'RNF2_P1P2_A|RNF2_P1P2_B', 'RRM1', 'RRM1_P1P2_A|RRM1_P1P2_B',\n",
       "       'SAFB', 'SAFB_P1P2_A|SAFB_P1P2_B', 'SALL4',\n",
       "       'SALL4_P1P2_A|SALL4_P1P2_B', 'SDC1', 'SDC1_P1P2_A|SDC1_P1P2_B',\n",
       "       'SEC62', 'SEC62_P1P2_A|SEC62_P1P2_B', 'SHPRH',\n",
       "       'SHPRH_P1P2_A|SHPRH_P1P2_B', 'SIN3B', 'SIN3B_P1P2_A|SIN3B_P1P2_B',\n",
       "       'SIX4', 'SIX4_P1P2_A|SIX4_P1P2_B', 'SLC25A3',\n",
       "       'SLC25A3_P1P2_A|SLC25A3_P1P2_B', 'SLC39A6',\n",
       "       'SLC39A6_P1P2_A|SLC39A6_P1P2_B', 'SLIRP', 'SMAGP',\n",
       "       'SMAGP_P1P2_A|SMAGP_P1P2_B', 'SMARCA4',\n",
       "       'SMARCA4_P1P2_A|SMARCA4_P1P2_B', 'SMARCA5',\n",
       "       'SMARCA5_P1P2_A|SMARCA5_P1P2_B', 'SMARCB1', 'SMARCE1',\n",
       "       'SNCA_P1P2_A|SNCA_P1P2_B', 'SOX2', 'SOX2_P1P2_A|SOX2_P1P2_B',\n",
       "       'SRC_P1P2_A|SRC_P1P2_B', 'SSBP1', 'SSBP1_P1P2_A|SSBP1_P1P2_B',\n",
       "       'STAG2', 'STAG2_P1_A|STAG2_P1_B', 'STAG2_P2_A|STAG2_P2_B', 'STAT1',\n",
       "       'STAT1_P1P2_A|STAT1_P1P2_B', 'STAT6', 'STAT6_P1P2_A|STAT6_P1P2_B',\n",
       "       'STRAP', 'STX4', 'STX4_P1P2_A|STX4_P1P2_B', 'SUPT4H1',\n",
       "       'SUPT4H1_P1P2_A|SUPT4H1_P1P2_B', 'SUPV3L1',\n",
       "       'SV2A_P1P2_A|SV2A_P1P2_B', 'TADA1', 'TADA1_P1P2_A|TADA1_P1P2_B',\n",
       "       'TAF13', 'TAF13_P1P2_A|TAF13_P1P2_B', 'TARBP2',\n",
       "       'TARBP2_P1P2_A|TARBP2_P1P2_B', 'TAZ', 'TAZ_P1P2_A|TAZ_P1P2_B',\n",
       "       'TCF3', 'TCF3_P1P2_A|TCF3_P1P2_B', 'TCF7L2', 'TET1',\n",
       "       'TET1_P1P2_A|TET1_P1P2_B', 'TFAM', 'TFAM_P1P2_A|TFAM_P1P2_B',\n",
       "       'TGFBR2_P1P2_A|TGFBR2_P1P2_B', 'TMBIM6',\n",
       "       'TMBIM6_P1P2_A|TMBIM6_P1P2_B', 'TMSB10',\n",
       "       'TMSB10_P1P2_A|TMSB10_P1P2_B', 'TMSB4X', 'TMSB4X_P1_A|TMSB4X_P1_B',\n",
       "       'TMSB4X_P2_A|TMSB4X_P2_B', 'TRAM2', 'TRAM2_P1P2_A|TRAM2_P1P2_B',\n",
       "       'TRAPPC6A', 'TRAPPC6A_P1P2_A|TRAPPC6A_P1P2_B', 'TSC22D4',\n",
       "       'TSC22D4_P1P2_A|TSC22D4_P1P2_B', 'TUSC3', 'TWF2',\n",
       "       'TWF2_P1P2_A|TWF2_P1P2_B', 'TXNDC9', 'TXNDC9_P1P2_A|TXNDC9_P1P2_B',\n",
       "       'UBE3C', 'UBE3C_P1P2_A|UBE3C_P1P2_B', 'UQCRB', 'UQCRQ',\n",
       "       'UQCRQ_P1P2_A|UQCRQ_P1P2_B', 'USF2', 'USP22',\n",
       "       'USP22_P1P2_A|USP22_P1P2_B', 'VCL', 'WAC',\n",
       "       'WFS1_P1P2_A|WFS1_P1P2_B', 'WSB2', 'WSB2_P1P2_A|WSB2_P1P2_B',\n",
       "       'XRCC4', 'XRCC4_P1P2_A|XRCC4_P1P2_B', 'ZNF286A',\n",
       "       'ZNF286A_P1P2_A|ZNF286A_P1P2_B', 'ZNF426',\n",
       "       'ZNF426_P1P2_A|ZNF426_P1P2_B', 'ZNF562',\n",
       "       'ZNF562_P1P2_A|ZNF562_P1P2_B', 'ZNF581', 'ZNF593',\n",
       "       'ZNF593_P1P2_A|ZNF593_P1P2_B', 'ZNF598', 'ZNF714',\n",
       "       'ZNF714_P1P2_A|ZNF714_P1P2_B', 'non-targeting',\n",
       "       'non-targeting_00005|non-targeting_01689',\n",
       "       'non-targeting_00006|non-targeting_00706',\n",
       "       'non-targeting_00010|non-targeting_02551',\n",
       "       'non-targeting_00013|non-targeting_01297',\n",
       "       'non-targeting_00014|non-targeting_00031',\n",
       "       'non-targeting_00018|non-targeting_00127',\n",
       "       'non-targeting_00020|non-targeting_01323',\n",
       "       'non-targeting_00021|non-targeting_03430',\n",
       "       'non-targeting_00024|non-targeting_03061',\n",
       "       'non-targeting_00026|non-targeting_02263',\n",
       "       'non-targeting_00027|non-targeting_00143',\n",
       "       'non-targeting_00033|non-targeting_02025',\n",
       "       'non-targeting_00035|non-targeting_03439',\n",
       "       'non-targeting_00038|non-targeting_00083',\n",
       "       'non-targeting_00039|non-targeting_01771',\n",
       "       'non-targeting_00047|non-targeting_00882',\n",
       "       'non-targeting_00050|non-targeting_03642',\n",
       "       'non-targeting_00054|non-targeting_01095',\n",
       "       'non-targeting_00057|non-targeting_00277',\n",
       "       'non-targeting_00062|non-targeting_02518',\n",
       "       'non-targeting_00065|non-targeting_02434',\n",
       "       'non-targeting_00068|non-targeting_00473',\n",
       "       'non-targeting_00077|non-targeting_01678',\n",
       "       'non-targeting_00089|non-targeting_01490',\n",
       "       'non-targeting_00092|non-targeting_00192',\n",
       "       'non-targeting_00095|non-targeting_03143',\n",
       "       'non-targeting_00106|non-targeting_02193',\n",
       "       'non-targeting_00116|non-targeting_02560',\n",
       "       'non-targeting_00119|non-targeting_02445',\n",
       "       'non-targeting_00121|non-targeting_00339',\n",
       "       'non-targeting_00125|non-targeting_02335'], dtype='<U51')"
      ]
     },
     "execution_count": 8,
     "metadata": {},
     "output_type": "execute_result"
    }
   ],
   "source": [
    "ds.perturbs"
   ]
  },
  {
   "cell_type": "code",
   "execution_count": null,
   "id": "579f2a63-29da-4483-82cc-3360bd24a8f2",
   "metadata": {},
   "outputs": [],
   "source": []
  }
 ],
 "metadata": {
  "kernelspec": {
   "display_name": "Python 3 (ipykernel)",
   "language": "python",
   "name": "python3"
  },
  "language_info": {
   "codemirror_mode": {
    "name": "ipython",
    "version": 3
   },
   "file_extension": ".py",
   "mimetype": "text/x-python",
   "name": "python",
   "nbconvert_exporter": "python",
   "pygments_lexer": "ipython3",
   "version": "3.12.11"
  }
 },
 "nbformat": 4,
 "nbformat_minor": 5
}
